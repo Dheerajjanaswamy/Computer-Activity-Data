{
 "cells": [
  {
   "cell_type": "markdown",
   "id": "ddcc6b94",
   "metadata": {},
   "source": [
    "# problem 1 :Linear Regression \n"
   ]
  },
  {
   "cell_type": "markdown",
   "id": "4a35b1dc",
   "metadata": {},
   "source": [
    "The comp-activ databases is a collection of a computer systems activity measures .\n",
    "The data was collected from a Sun Sparcstation 20/712 with 128 Mbytes of memory running in a multi-user university department. Users would typically be doing a large variety of tasks ranging from accessing the internet, editing files or running very cpu-bound programs. \n",
    "\n",
    "As you are a budding data scientist you thought to find out a linear equation to build a model to predict 'usr'(Portion of time (%) that cpus run in user mode) and to find out how each attribute affects the system to be in 'usr' mode using a list of system attributes.\n",
    "\n",
    "Dataset for Problem 1: compactiv.xlsx\n",
    "\n",
    "DATA DICTIONARY:\n",
    "-----------------------\n",
    "System measures used:\n",
    "\n",
    "lread - Reads (transfers per second ) between system memory and user memory\n",
    "\n",
    "lwrite - writes (transfers per second) between system memory and user \n",
    "\n",
    "scall - Number of system calls of all types per second\n",
    "\n",
    "sread - Number of system read calls per second .\n",
    "\n",
    "swrite - Number of system write calls per second .\n",
    "\n",
    "fork - Number of system fork calls per second.\n",
    "\n",
    "exec - Number of system exec calls per second.\n",
    "\n",
    "rchar - Number of characters transferred per second by system read calls\n",
    "\n",
    "wchar - Number of characters transfreed per second by system write calls\n",
    "\n",
    "pgout - Number of page out requests per second\n",
    "\n",
    "ppgout - Number of pages, paged out per second\n",
    "\n",
    "pgfree - Number of pages per second placed on the free list.\n",
    "\n",
    "pgscan - Number of pages checked if they can be freed per second\n",
    "\n",
    "atch - Number of page attaches (satisfying a page fault by reclaiming a page in memory) per second\n",
    "\n",
    "pgin - Number of page-in requests per second\n",
    "\n",
    "ppgin - Number of pages paged in per second\n",
    "\n",
    "pflt - Number of page faults caused by protection errors (copy-on-writes).\n",
    "\n",
    "vflt - Number of page faults caused by address translation .\n",
    "\n",
    "runqsz - Process run queue size (The number of kernel threads in memory that are waiting for a CPU to run.\n",
    "\n",
    "Typically, this value should be less than 2. Consistently higher values mean that the system might be CPU-bound.)\n",
    "\n",
    "freemem - Number of memory pages available to user processes\n",
    "\n",
    "freeswap - Number of disk blocks available for page swapping.\n",
    "------------------------\n",
    "\n",
    "usr - Portion of time (%) that cpus run in user mode"
   ]
  },
  {
   "cell_type": "code",
   "execution_count": 1,
   "id": "d7f6d248",
   "metadata": {},
   "outputs": [],
   "source": [
    "import numpy as np   \n",
    "import pandas as pd    \n",
    "import seaborn as sns\n",
    "import matplotlib.pyplot as plt \n",
    "import warnings\n",
    "warnings.filterwarnings('ignore')"
   ]
  },
  {
   "cell_type": "markdown",
   "id": "c172f0e9",
   "metadata": {},
   "source": [
    "Import the necessary libraries for the data set"
   ]
  },
  {
   "cell_type": "markdown",
   "id": "4a04b5ce",
   "metadata": {},
   "source": [
    "# 1.1 Read the data and do exploratory data analysis. Describe the data briefly. (Check the Data types, shape, EDA, 5 point summary). Perform Univariate, Bivariate Analysis, Multivariate Analysis."
   ]
  },
  {
   "cell_type": "code",
   "execution_count": 2,
   "id": "7085b53b",
   "metadata": {},
   "outputs": [
    {
     "data": {
      "text/html": [
       "<div>\n",
       "<style scoped>\n",
       "    .dataframe tbody tr th:only-of-type {\n",
       "        vertical-align: middle;\n",
       "    }\n",
       "\n",
       "    .dataframe tbody tr th {\n",
       "        vertical-align: top;\n",
       "    }\n",
       "\n",
       "    .dataframe thead th {\n",
       "        text-align: right;\n",
       "    }\n",
       "</style>\n",
       "<table border=\"1\" class=\"dataframe\">\n",
       "  <thead>\n",
       "    <tr style=\"text-align: right;\">\n",
       "      <th></th>\n",
       "      <th>lread</th>\n",
       "      <th>lwrite</th>\n",
       "      <th>scall</th>\n",
       "      <th>sread</th>\n",
       "      <th>swrite</th>\n",
       "      <th>fork</th>\n",
       "      <th>exec</th>\n",
       "      <th>rchar</th>\n",
       "      <th>wchar</th>\n",
       "      <th>pgout</th>\n",
       "      <th>...</th>\n",
       "      <th>pgscan</th>\n",
       "      <th>atch</th>\n",
       "      <th>pgin</th>\n",
       "      <th>ppgin</th>\n",
       "      <th>pflt</th>\n",
       "      <th>vflt</th>\n",
       "      <th>runqsz</th>\n",
       "      <th>freemem</th>\n",
       "      <th>freeswap</th>\n",
       "      <th>usr</th>\n",
       "    </tr>\n",
       "  </thead>\n",
       "  <tbody>\n",
       "    <tr>\n",
       "      <th>0</th>\n",
       "      <td>1</td>\n",
       "      <td>0</td>\n",
       "      <td>2147</td>\n",
       "      <td>79</td>\n",
       "      <td>68</td>\n",
       "      <td>0.2</td>\n",
       "      <td>0.2</td>\n",
       "      <td>40671.0</td>\n",
       "      <td>53995.0</td>\n",
       "      <td>0.0</td>\n",
       "      <td>...</td>\n",
       "      <td>0.0</td>\n",
       "      <td>0.0</td>\n",
       "      <td>1.6</td>\n",
       "      <td>2.6</td>\n",
       "      <td>16.00</td>\n",
       "      <td>26.40</td>\n",
       "      <td>CPU_Bound</td>\n",
       "      <td>4670</td>\n",
       "      <td>1730946</td>\n",
       "      <td>95</td>\n",
       "    </tr>\n",
       "    <tr>\n",
       "      <th>1</th>\n",
       "      <td>0</td>\n",
       "      <td>0</td>\n",
       "      <td>170</td>\n",
       "      <td>18</td>\n",
       "      <td>21</td>\n",
       "      <td>0.2</td>\n",
       "      <td>0.2</td>\n",
       "      <td>448.0</td>\n",
       "      <td>8385.0</td>\n",
       "      <td>0.0</td>\n",
       "      <td>...</td>\n",
       "      <td>0.0</td>\n",
       "      <td>0.0</td>\n",
       "      <td>0.0</td>\n",
       "      <td>0.0</td>\n",
       "      <td>15.63</td>\n",
       "      <td>16.83</td>\n",
       "      <td>Not_CPU_Bound</td>\n",
       "      <td>7278</td>\n",
       "      <td>1869002</td>\n",
       "      <td>97</td>\n",
       "    </tr>\n",
       "    <tr>\n",
       "      <th>2</th>\n",
       "      <td>15</td>\n",
       "      <td>3</td>\n",
       "      <td>2162</td>\n",
       "      <td>159</td>\n",
       "      <td>119</td>\n",
       "      <td>2.0</td>\n",
       "      <td>2.4</td>\n",
       "      <td>NaN</td>\n",
       "      <td>31950.0</td>\n",
       "      <td>0.0</td>\n",
       "      <td>...</td>\n",
       "      <td>0.0</td>\n",
       "      <td>1.2</td>\n",
       "      <td>6.0</td>\n",
       "      <td>9.4</td>\n",
       "      <td>150.20</td>\n",
       "      <td>220.20</td>\n",
       "      <td>Not_CPU_Bound</td>\n",
       "      <td>702</td>\n",
       "      <td>1021237</td>\n",
       "      <td>87</td>\n",
       "    </tr>\n",
       "    <tr>\n",
       "      <th>3</th>\n",
       "      <td>0</td>\n",
       "      <td>0</td>\n",
       "      <td>160</td>\n",
       "      <td>12</td>\n",
       "      <td>16</td>\n",
       "      <td>0.2</td>\n",
       "      <td>0.2</td>\n",
       "      <td>NaN</td>\n",
       "      <td>8670.0</td>\n",
       "      <td>0.0</td>\n",
       "      <td>...</td>\n",
       "      <td>0.0</td>\n",
       "      <td>0.0</td>\n",
       "      <td>0.2</td>\n",
       "      <td>0.2</td>\n",
       "      <td>15.60</td>\n",
       "      <td>16.80</td>\n",
       "      <td>Not_CPU_Bound</td>\n",
       "      <td>7248</td>\n",
       "      <td>1863704</td>\n",
       "      <td>98</td>\n",
       "    </tr>\n",
       "    <tr>\n",
       "      <th>4</th>\n",
       "      <td>5</td>\n",
       "      <td>1</td>\n",
       "      <td>330</td>\n",
       "      <td>39</td>\n",
       "      <td>38</td>\n",
       "      <td>0.4</td>\n",
       "      <td>0.4</td>\n",
       "      <td>NaN</td>\n",
       "      <td>12185.0</td>\n",
       "      <td>0.0</td>\n",
       "      <td>...</td>\n",
       "      <td>0.0</td>\n",
       "      <td>0.0</td>\n",
       "      <td>1.0</td>\n",
       "      <td>1.2</td>\n",
       "      <td>37.80</td>\n",
       "      <td>47.60</td>\n",
       "      <td>Not_CPU_Bound</td>\n",
       "      <td>633</td>\n",
       "      <td>1760253</td>\n",
       "      <td>90</td>\n",
       "    </tr>\n",
       "  </tbody>\n",
       "</table>\n",
       "<p>5 rows × 22 columns</p>\n",
       "</div>"
      ],
      "text/plain": [
       "   lread  lwrite  scall  sread  swrite  fork  exec    rchar    wchar  pgout  \\\n",
       "0      1       0   2147     79      68   0.2   0.2  40671.0  53995.0    0.0   \n",
       "1      0       0    170     18      21   0.2   0.2    448.0   8385.0    0.0   \n",
       "2     15       3   2162    159     119   2.0   2.4      NaN  31950.0    0.0   \n",
       "3      0       0    160     12      16   0.2   0.2      NaN   8670.0    0.0   \n",
       "4      5       1    330     39      38   0.4   0.4      NaN  12185.0    0.0   \n",
       "\n",
       "   ...  pgscan  atch  pgin  ppgin    pflt    vflt         runqsz  freemem  \\\n",
       "0  ...     0.0   0.0   1.6    2.6   16.00   26.40      CPU_Bound     4670   \n",
       "1  ...     0.0   0.0   0.0    0.0   15.63   16.83  Not_CPU_Bound     7278   \n",
       "2  ...     0.0   1.2   6.0    9.4  150.20  220.20  Not_CPU_Bound      702   \n",
       "3  ...     0.0   0.0   0.2    0.2   15.60   16.80  Not_CPU_Bound     7248   \n",
       "4  ...     0.0   0.0   1.0    1.2   37.80   47.60  Not_CPU_Bound      633   \n",
       "\n",
       "  freeswap  usr  \n",
       "0  1730946   95  \n",
       "1  1869002   97  \n",
       "2  1021237   87  \n",
       "3  1863704   98  \n",
       "4  1760253   90  \n",
       "\n",
       "[5 rows x 22 columns]"
      ]
     },
     "execution_count": 2,
     "metadata": {},
     "output_type": "execute_result"
    }
   ],
   "source": [
    "df1=pd.read_excel('C:\\\\Users\\\\baba\\\\Downloads\\\\edge downloads\\\\predictive modelling\\\\compactiv.xlsx')\n",
    "df1.head()"
   ]
  },
  {
   "cell_type": "markdown",
   "id": "a138fc57",
   "metadata": {},
   "source": [
    "the data frame given to us by follwing procedure After loading the dataset, needy slicling and dicing of the dataset is done to understand its datatypes and the size of it, by which we know that the dataset had 8192 rows and 22 columns as below, with datatypes of integer, float and object."
   ]
  },
  {
   "cell_type": "code",
   "execution_count": 3,
   "id": "453cc3e9",
   "metadata": {},
   "outputs": [
    {
     "data": {
      "text/plain": [
       "lread         int64\n",
       "lwrite        int64\n",
       "scall         int64\n",
       "sread         int64\n",
       "swrite        int64\n",
       "fork        float64\n",
       "exec        float64\n",
       "rchar       float64\n",
       "wchar       float64\n",
       "pgout       float64\n",
       "ppgout      float64\n",
       "pgfree      float64\n",
       "pgscan      float64\n",
       "atch        float64\n",
       "pgin        float64\n",
       "ppgin       float64\n",
       "pflt        float64\n",
       "vflt        float64\n",
       "runqsz       object\n",
       "freemem       int64\n",
       "freeswap      int64\n",
       "usr           int64\n",
       "dtype: object"
      ]
     },
     "execution_count": 3,
     "metadata": {},
     "output_type": "execute_result"
    }
   ],
   "source": [
    "df1.dtypes"
   ]
  },
  {
   "cell_type": "code",
   "execution_count": 4,
   "id": "000b8adb",
   "metadata": {},
   "outputs": [
    {
     "name": "stdout",
     "output_type": "stream",
     "text": [
      "Number of rows: 8192 \n",
      "Number of columns: 22\n"
     ]
    }
   ],
   "source": [
    "print('Number of rows:',df1.shape[0],'\\nNumber of columns:',df1.shape[1])"
   ]
  },
  {
   "cell_type": "markdown",
   "id": "031343a5",
   "metadata": {},
   "source": [
    "To find the missing data, run the dataset through info rule and understand the complete data as a bird view."
   ]
  },
  {
   "cell_type": "code",
   "execution_count": 5,
   "id": "d6162d42",
   "metadata": {},
   "outputs": [
    {
     "name": "stdout",
     "output_type": "stream",
     "text": [
      "<class 'pandas.core.frame.DataFrame'>\n",
      "RangeIndex: 8192 entries, 0 to 8191\n",
      "Data columns (total 22 columns):\n",
      " #   Column    Non-Null Count  Dtype  \n",
      "---  ------    --------------  -----  \n",
      " 0   lread     8192 non-null   int64  \n",
      " 1   lwrite    8192 non-null   int64  \n",
      " 2   scall     8192 non-null   int64  \n",
      " 3   sread     8192 non-null   int64  \n",
      " 4   swrite    8192 non-null   int64  \n",
      " 5   fork      8192 non-null   float64\n",
      " 6   exec      8192 non-null   float64\n",
      " 7   rchar     8088 non-null   float64\n",
      " 8   wchar     8177 non-null   float64\n",
      " 9   pgout     8192 non-null   float64\n",
      " 10  ppgout    8192 non-null   float64\n",
      " 11  pgfree    8192 non-null   float64\n",
      " 12  pgscan    8192 non-null   float64\n",
      " 13  atch      8192 non-null   float64\n",
      " 14  pgin      8192 non-null   float64\n",
      " 15  ppgin     8192 non-null   float64\n",
      " 16  pflt      8192 non-null   float64\n",
      " 17  vflt      8192 non-null   float64\n",
      " 18  runqsz    8192 non-null   object \n",
      " 19  freemem   8192 non-null   int64  \n",
      " 20  freeswap  8192 non-null   int64  \n",
      " 21  usr       8192 non-null   int64  \n",
      "dtypes: float64(13), int64(8), object(1)\n",
      "memory usage: 1.4+ MB\n",
      "None \n",
      "\n",
      "lread         int64\n",
      "lwrite        int64\n",
      "scall         int64\n",
      "sread         int64\n",
      "swrite        int64\n",
      "fork        float64\n",
      "exec        float64\n",
      "rchar       float64\n",
      "wchar       float64\n",
      "pgout       float64\n",
      "ppgout      float64\n",
      "pgfree      float64\n",
      "pgscan      float64\n",
      "atch        float64\n",
      "pgin        float64\n",
      "ppgin       float64\n",
      "pflt        float64\n",
      "vflt        float64\n",
      "runqsz       object\n",
      "freemem       int64\n",
      "freeswap      int64\n",
      "usr           int64\n",
      "dtype: object\n"
     ]
    }
   ],
   "source": [
    "print(df1.info(),'\\n')\n",
    "print(df1.dtypes)"
   ]
  },
  {
   "cell_type": "markdown",
   "id": "a013f290",
   "metadata": {},
   "source": [
    "Describe function used to give a clear picture on the dataset,which also gives the statistcs especially to understand the data distribution from the dataset."
   ]
  },
  {
   "cell_type": "code",
   "execution_count": 6,
   "id": "76557a59",
   "metadata": {},
   "outputs": [
    {
     "data": {
      "text/html": [
       "<div>\n",
       "<style scoped>\n",
       "    .dataframe tbody tr th:only-of-type {\n",
       "        vertical-align: middle;\n",
       "    }\n",
       "\n",
       "    .dataframe tbody tr th {\n",
       "        vertical-align: top;\n",
       "    }\n",
       "\n",
       "    .dataframe thead th {\n",
       "        text-align: right;\n",
       "    }\n",
       "</style>\n",
       "<table border=\"1\" class=\"dataframe\">\n",
       "  <thead>\n",
       "    <tr style=\"text-align: right;\">\n",
       "      <th></th>\n",
       "      <th>count</th>\n",
       "      <th>mean</th>\n",
       "      <th>std</th>\n",
       "      <th>min</th>\n",
       "      <th>25%</th>\n",
       "      <th>50%</th>\n",
       "      <th>75%</th>\n",
       "      <th>max</th>\n",
       "    </tr>\n",
       "  </thead>\n",
       "  <tbody>\n",
       "    <tr>\n",
       "      <th>lread</th>\n",
       "      <td>8192.0</td>\n",
       "      <td>1.955969e+01</td>\n",
       "      <td>53.353799</td>\n",
       "      <td>0.0</td>\n",
       "      <td>2.0</td>\n",
       "      <td>7.0</td>\n",
       "      <td>20.000</td>\n",
       "      <td>1845.00</td>\n",
       "    </tr>\n",
       "    <tr>\n",
       "      <th>lwrite</th>\n",
       "      <td>8192.0</td>\n",
       "      <td>1.310620e+01</td>\n",
       "      <td>29.891726</td>\n",
       "      <td>0.0</td>\n",
       "      <td>0.0</td>\n",
       "      <td>1.0</td>\n",
       "      <td>10.000</td>\n",
       "      <td>575.00</td>\n",
       "    </tr>\n",
       "    <tr>\n",
       "      <th>scall</th>\n",
       "      <td>8192.0</td>\n",
       "      <td>2.306318e+03</td>\n",
       "      <td>1633.617322</td>\n",
       "      <td>109.0</td>\n",
       "      <td>1012.0</td>\n",
       "      <td>2051.5</td>\n",
       "      <td>3317.250</td>\n",
       "      <td>12493.00</td>\n",
       "    </tr>\n",
       "    <tr>\n",
       "      <th>sread</th>\n",
       "      <td>8192.0</td>\n",
       "      <td>2.104800e+02</td>\n",
       "      <td>198.980146</td>\n",
       "      <td>6.0</td>\n",
       "      <td>86.0</td>\n",
       "      <td>166.0</td>\n",
       "      <td>279.000</td>\n",
       "      <td>5318.00</td>\n",
       "    </tr>\n",
       "    <tr>\n",
       "      <th>swrite</th>\n",
       "      <td>8192.0</td>\n",
       "      <td>1.500582e+02</td>\n",
       "      <td>160.478980</td>\n",
       "      <td>7.0</td>\n",
       "      <td>63.0</td>\n",
       "      <td>117.0</td>\n",
       "      <td>185.000</td>\n",
       "      <td>5456.00</td>\n",
       "    </tr>\n",
       "    <tr>\n",
       "      <th>fork</th>\n",
       "      <td>8192.0</td>\n",
       "      <td>1.884554e+00</td>\n",
       "      <td>2.479493</td>\n",
       "      <td>0.0</td>\n",
       "      <td>0.4</td>\n",
       "      <td>0.8</td>\n",
       "      <td>2.200</td>\n",
       "      <td>20.12</td>\n",
       "    </tr>\n",
       "    <tr>\n",
       "      <th>exec</th>\n",
       "      <td>8192.0</td>\n",
       "      <td>2.791998e+00</td>\n",
       "      <td>5.212456</td>\n",
       "      <td>0.0</td>\n",
       "      <td>0.2</td>\n",
       "      <td>1.2</td>\n",
       "      <td>2.800</td>\n",
       "      <td>59.56</td>\n",
       "    </tr>\n",
       "    <tr>\n",
       "      <th>rchar</th>\n",
       "      <td>8088.0</td>\n",
       "      <td>1.973857e+05</td>\n",
       "      <td>239837.493526</td>\n",
       "      <td>278.0</td>\n",
       "      <td>34091.5</td>\n",
       "      <td>125473.5</td>\n",
       "      <td>267828.750</td>\n",
       "      <td>2526649.00</td>\n",
       "    </tr>\n",
       "    <tr>\n",
       "      <th>wchar</th>\n",
       "      <td>8177.0</td>\n",
       "      <td>9.590299e+04</td>\n",
       "      <td>140841.707911</td>\n",
       "      <td>1498.0</td>\n",
       "      <td>22916.0</td>\n",
       "      <td>46619.0</td>\n",
       "      <td>106101.000</td>\n",
       "      <td>1801623.00</td>\n",
       "    </tr>\n",
       "    <tr>\n",
       "      <th>pgout</th>\n",
       "      <td>8192.0</td>\n",
       "      <td>2.285317e+00</td>\n",
       "      <td>5.307038</td>\n",
       "      <td>0.0</td>\n",
       "      <td>0.0</td>\n",
       "      <td>0.0</td>\n",
       "      <td>2.400</td>\n",
       "      <td>81.44</td>\n",
       "    </tr>\n",
       "    <tr>\n",
       "      <th>ppgout</th>\n",
       "      <td>8192.0</td>\n",
       "      <td>5.977229e+00</td>\n",
       "      <td>15.214590</td>\n",
       "      <td>0.0</td>\n",
       "      <td>0.0</td>\n",
       "      <td>0.0</td>\n",
       "      <td>4.200</td>\n",
       "      <td>184.20</td>\n",
       "    </tr>\n",
       "    <tr>\n",
       "      <th>pgfree</th>\n",
       "      <td>8192.0</td>\n",
       "      <td>1.191971e+01</td>\n",
       "      <td>32.363520</td>\n",
       "      <td>0.0</td>\n",
       "      <td>0.0</td>\n",
       "      <td>0.0</td>\n",
       "      <td>5.000</td>\n",
       "      <td>523.00</td>\n",
       "    </tr>\n",
       "    <tr>\n",
       "      <th>pgscan</th>\n",
       "      <td>8192.0</td>\n",
       "      <td>2.152685e+01</td>\n",
       "      <td>71.141340</td>\n",
       "      <td>0.0</td>\n",
       "      <td>0.0</td>\n",
       "      <td>0.0</td>\n",
       "      <td>0.000</td>\n",
       "      <td>1237.00</td>\n",
       "    </tr>\n",
       "    <tr>\n",
       "      <th>atch</th>\n",
       "      <td>8192.0</td>\n",
       "      <td>1.127505e+00</td>\n",
       "      <td>5.708347</td>\n",
       "      <td>0.0</td>\n",
       "      <td>0.0</td>\n",
       "      <td>0.0</td>\n",
       "      <td>0.600</td>\n",
       "      <td>211.58</td>\n",
       "    </tr>\n",
       "    <tr>\n",
       "      <th>pgin</th>\n",
       "      <td>8192.0</td>\n",
       "      <td>8.277960e+00</td>\n",
       "      <td>13.874978</td>\n",
       "      <td>0.0</td>\n",
       "      <td>0.6</td>\n",
       "      <td>2.8</td>\n",
       "      <td>9.765</td>\n",
       "      <td>141.20</td>\n",
       "    </tr>\n",
       "    <tr>\n",
       "      <th>ppgin</th>\n",
       "      <td>8192.0</td>\n",
       "      <td>1.238859e+01</td>\n",
       "      <td>22.281318</td>\n",
       "      <td>0.0</td>\n",
       "      <td>0.6</td>\n",
       "      <td>3.8</td>\n",
       "      <td>13.800</td>\n",
       "      <td>292.61</td>\n",
       "    </tr>\n",
       "    <tr>\n",
       "      <th>pflt</th>\n",
       "      <td>8192.0</td>\n",
       "      <td>1.097938e+02</td>\n",
       "      <td>114.419221</td>\n",
       "      <td>0.0</td>\n",
       "      <td>25.0</td>\n",
       "      <td>63.8</td>\n",
       "      <td>159.600</td>\n",
       "      <td>899.80</td>\n",
       "    </tr>\n",
       "    <tr>\n",
       "      <th>vflt</th>\n",
       "      <td>8192.0</td>\n",
       "      <td>1.853158e+02</td>\n",
       "      <td>191.000603</td>\n",
       "      <td>0.2</td>\n",
       "      <td>45.4</td>\n",
       "      <td>120.4</td>\n",
       "      <td>251.800</td>\n",
       "      <td>1365.00</td>\n",
       "    </tr>\n",
       "    <tr>\n",
       "      <th>freemem</th>\n",
       "      <td>8192.0</td>\n",
       "      <td>1.763456e+03</td>\n",
       "      <td>2482.104511</td>\n",
       "      <td>55.0</td>\n",
       "      <td>231.0</td>\n",
       "      <td>579.0</td>\n",
       "      <td>2002.250</td>\n",
       "      <td>12027.00</td>\n",
       "    </tr>\n",
       "    <tr>\n",
       "      <th>freeswap</th>\n",
       "      <td>8192.0</td>\n",
       "      <td>1.328126e+06</td>\n",
       "      <td>422019.426957</td>\n",
       "      <td>2.0</td>\n",
       "      <td>1042623.5</td>\n",
       "      <td>1289289.5</td>\n",
       "      <td>1730379.500</td>\n",
       "      <td>2243187.00</td>\n",
       "    </tr>\n",
       "    <tr>\n",
       "      <th>usr</th>\n",
       "      <td>8192.0</td>\n",
       "      <td>8.396887e+01</td>\n",
       "      <td>18.401905</td>\n",
       "      <td>0.0</td>\n",
       "      <td>81.0</td>\n",
       "      <td>89.0</td>\n",
       "      <td>94.000</td>\n",
       "      <td>99.00</td>\n",
       "    </tr>\n",
       "  </tbody>\n",
       "</table>\n",
       "</div>"
      ],
      "text/plain": [
       "           count          mean            std     min        25%        50%  \\\n",
       "lread     8192.0  1.955969e+01      53.353799     0.0        2.0        7.0   \n",
       "lwrite    8192.0  1.310620e+01      29.891726     0.0        0.0        1.0   \n",
       "scall     8192.0  2.306318e+03    1633.617322   109.0     1012.0     2051.5   \n",
       "sread     8192.0  2.104800e+02     198.980146     6.0       86.0      166.0   \n",
       "swrite    8192.0  1.500582e+02     160.478980     7.0       63.0      117.0   \n",
       "fork      8192.0  1.884554e+00       2.479493     0.0        0.4        0.8   \n",
       "exec      8192.0  2.791998e+00       5.212456     0.0        0.2        1.2   \n",
       "rchar     8088.0  1.973857e+05  239837.493526   278.0    34091.5   125473.5   \n",
       "wchar     8177.0  9.590299e+04  140841.707911  1498.0    22916.0    46619.0   \n",
       "pgout     8192.0  2.285317e+00       5.307038     0.0        0.0        0.0   \n",
       "ppgout    8192.0  5.977229e+00      15.214590     0.0        0.0        0.0   \n",
       "pgfree    8192.0  1.191971e+01      32.363520     0.0        0.0        0.0   \n",
       "pgscan    8192.0  2.152685e+01      71.141340     0.0        0.0        0.0   \n",
       "atch      8192.0  1.127505e+00       5.708347     0.0        0.0        0.0   \n",
       "pgin      8192.0  8.277960e+00      13.874978     0.0        0.6        2.8   \n",
       "ppgin     8192.0  1.238859e+01      22.281318     0.0        0.6        3.8   \n",
       "pflt      8192.0  1.097938e+02     114.419221     0.0       25.0       63.8   \n",
       "vflt      8192.0  1.853158e+02     191.000603     0.2       45.4      120.4   \n",
       "freemem   8192.0  1.763456e+03    2482.104511    55.0      231.0      579.0   \n",
       "freeswap  8192.0  1.328126e+06  422019.426957     2.0  1042623.5  1289289.5   \n",
       "usr       8192.0  8.396887e+01      18.401905     0.0       81.0       89.0   \n",
       "\n",
       "                  75%         max  \n",
       "lread          20.000     1845.00  \n",
       "lwrite         10.000      575.00  \n",
       "scall        3317.250    12493.00  \n",
       "sread         279.000     5318.00  \n",
       "swrite        185.000     5456.00  \n",
       "fork            2.200       20.12  \n",
       "exec            2.800       59.56  \n",
       "rchar      267828.750  2526649.00  \n",
       "wchar      106101.000  1801623.00  \n",
       "pgout           2.400       81.44  \n",
       "ppgout          4.200      184.20  \n",
       "pgfree          5.000      523.00  \n",
       "pgscan          0.000     1237.00  \n",
       "atch            0.600      211.58  \n",
       "pgin            9.765      141.20  \n",
       "ppgin          13.800      292.61  \n",
       "pflt          159.600      899.80  \n",
       "vflt          251.800     1365.00  \n",
       "freemem      2002.250    12027.00  \n",
       "freeswap  1730379.500  2243187.00  \n",
       "usr            94.000       99.00  "
      ]
     },
     "execution_count": 6,
     "metadata": {},
     "output_type": "execute_result"
    }
   ],
   "source": [
    "df1.describe().T"
   ]
  },
  {
   "cell_type": "markdown",
   "id": "fb16873d",
   "metadata": {},
   "source": [
    "checking the null values gives the missing data in the dataset and there are 104 ,15 missing values in the columns of rchar and wchar respectively"
   ]
  },
  {
   "cell_type": "code",
   "execution_count": 7,
   "id": "1d612bd2",
   "metadata": {},
   "outputs": [
    {
     "data": {
      "text/plain": [
       "lread         0\n",
       "lwrite        0\n",
       "scall         0\n",
       "sread         0\n",
       "swrite        0\n",
       "fork          0\n",
       "exec          0\n",
       "rchar       104\n",
       "wchar        15\n",
       "pgout         0\n",
       "ppgout        0\n",
       "pgfree        0\n",
       "pgscan        0\n",
       "atch          0\n",
       "pgin          0\n",
       "ppgin         0\n",
       "pflt          0\n",
       "vflt          0\n",
       "runqsz        0\n",
       "freemem       0\n",
       "freeswap      0\n",
       "usr           0\n",
       "dtype: int64"
      ]
     },
     "execution_count": 7,
     "metadata": {},
     "output_type": "execute_result"
    }
   ],
   "source": [
    "df1.isna().sum()"
   ]
  },
  {
   "cell_type": "markdown",
   "id": "3023e172",
   "metadata": {},
   "source": [
    "# Univariate Analysis"
   ]
  },
  {
   "cell_type": "markdown",
   "id": "0eff0056",
   "metadata": {},
   "source": [
    "In statistics, we want to know the range of values present and how often these values (or groups of values) occur. Univariate analysis is the analysis of one variable at a time, rather than trying to look at all the data ."
   ]
  },
  {
   "cell_type": "code",
   "execution_count": 8,
   "id": "cf9c0e8d",
   "metadata": {},
   "outputs": [],
   "source": [
    "from pylab import rcParams\n",
    "rcParams['figure.figsize'] = 10,5"
   ]
  },
  {
   "cell_type": "markdown",
   "id": "de7e9aac",
   "metadata": {},
   "source": [
    "To comprehend the object type variable, we use a countplot to view two variables in the dataset: CPU Bound and NOT CPU Bound. Because it is related with a different sort of data than CPU Bound, Not CPU Bound has a larger count than CPU Bound."
   ]
  },
  {
   "cell_type": "code",
   "execution_count": 9,
   "id": "a0bfd890",
   "metadata": {},
   "outputs": [
    {
     "data": {
      "text/plain": [
       "<AxesSubplot:xlabel='runqsz', ylabel='count'>"
      ]
     },
     "execution_count": 9,
     "metadata": {},
     "output_type": "execute_result"
    },
    {
     "data": {
      "image/png": "[encoded data removed]",
      "text/plain": [
       "<Figure size 432x432 with 1 Axes>"
      ]
     },
     "metadata": {
      "needs_background": "light"
     },
     "output_type": "display_data"
    }
   ],
   "source": [
    "plt.figure(figsize=(6,6))\n",
    "sns.countplot(data=df1, x='runqsz')"
   ]
  },
  {
   "cell_type": "markdown",
   "id": "647bef74",
   "metadata": {},
   "source": [
    "# Box plot"
   ]
  },
  {
   "cell_type": "markdown",
   "id": "d10541f9",
   "metadata": {},
   "source": [
    "A box and whisker plot, often known as a box plot, shows a five-number summary of a collection of data. The lowest, first quartile, median, third quartile, and maximum are the five-number summary. A box plot is created by drawing a box from the first to third quartiles. Box plots are used to depict the distributions of numerical data values, particularly when comparing them across various groups. They are designed to deliver high-level information at a look while also providing general information about a group."
   ]
  },
  {
   "cell_type": "code",
   "execution_count": 10,
   "id": "2d2872a7",
   "metadata": {
    "scrolled": false
   },
   "outputs": [
    {
     "data": {
      "image/png": "[encoded data removed]",
      "text/plain": [
       "<Figure size 720x360 with 1 Axes>"
      ]
     },
     "metadata": {
      "needs_background": "light"
     },
     "output_type": "display_data"
    },
    {
     "data": {
      "image/png": "[encoded data removed]",
      "text/plain": [
       "<Figure size 720x360 with 1 Axes>"
      ]
     },
     "metadata": {
      "needs_background": "light"
     },
     "output_type": "display_data"
    },
    {
     "data": {
      "image/png": "[encoded data removed]",
      "text/plain": [
       "<Figure size 720x360 with 1 Axes>"
      ]
     },
     "metadata": {
      "needs_background": "light"
     },
     "output_type": "display_data"
    },
    {
     "data": {
      "image/png": "[encoded data removed]",
      "text/plain": [
       "<Figure size 720x360 with 1 Axes>"
      ]
     },
     "metadata": {
      "needs_background": "light"
     },
     "output_type": "display_data"
    },
    {
     "data": {
      "image/png": "[encoded data removed]",
      "text/plain": [
       "<Figure size 720x360 with 1 Axes>"
      ]
     },
     "metadata": {
      "needs_background": "light"
     },
     "output_type": "display_data"
    },
    {
     "data": {
      "image/png": "[encoded data removed]",
      "text/plain": [
       "<Figure size 720x360 with 1 Axes>"
      ]
     },
     "metadata": {
      "needs_background": "light"
     },
     "output_type": "display_data"
    },
    {
     "data": {
      "image/png": "[encoded data removed]",
      "text/plain": [
       "<Figure size 720x360 with 1 Axes>"
      ]
     },
     "metadata": {
      "needs_background": "light"
     },
     "output_type": "display_data"
    },
    {
     "data": {
      "image/png": "[encoded data removed]",
      "text/plain": [
       "<Figure size 720x360 with 1 Axes>"
      ]
     },
     "metadata": {
      "needs_background": "light"
     },
     "output_type": "display_data"
    },
    {
     "data": {
      "image/png": "[encoded data removed]",
      "text/plain": [
       "<Figure size 720x360 with 1 Axes>"
      ]
     },
     "metadata": {
      "needs_background": "light"
     },
     "output_type": "display_data"
    },
    {
     "data": {
      "image/png": "[encoded data removed]",
      "text/plain": [
       "<Figure size 720x360 with 1 Axes>"
      ]
     },
     "metadata": {
      "needs_background": "light"
     },
     "output_type": "display_data"
    },
    {
     "data": {
      "image/png": "[encoded data removed]",
      "text/plain": [
       "<Figure size 720x360 with 1 Axes>"
      ]
     },
     "metadata": {
      "needs_background": "light"
     },
     "output_type": "display_data"
    },
    {
     "data": {
      "image/png": "[encoded data removed]",
      "text/plain": [
       "<Figure size 720x360 with 1 Axes>"
      ]
     },
     "metadata": {
      "needs_background": "light"
     },
     "output_type": "display_data"
    },
    {
     "data": {
      "image/png": "[encoded data removed]",
      "text/plain": [
       "<Figure size 720x360 with 1 Axes>"
      ]
     },
     "metadata": {
      "needs_background": "light"
     },
     "output_type": "display_data"
    },
    {
     "data": {
      "image/png": "[encoded data removed]",
      "text/plain": [
       "<Figure size 720x360 with 1 Axes>"
      ]
     },
     "metadata": {
      "needs_background": "light"
     },
     "output_type": "display_data"
    },
    {
     "data": {
      "image/png": "[encoded data removed]",
      "text/plain": [
       "<Figure size 720x360 with 1 Axes>"
      ]
     },
     "metadata": {
      "needs_background": "light"
     },
     "output_type": "display_data"
    },
    {
     "data": {
      "image/png": "[encoded data removed]",
      "text/plain": [
       "<Figure size 720x360 with 1 Axes>"
      ]
     },
     "metadata": {
      "needs_background": "light"
     },
     "output_type": "display_data"
    },
    {
     "data": {
      "image/png": "[encoded data removed]",
      "text/plain": [
       "<Figure size 720x360 with 1 Axes>"
      ]
     },
     "metadata": {
      "needs_background": "light"
     },
     "output_type": "display_data"
    },
    {
     "data": {
      "image/png": "[encoded data removed]",
      "text/plain": [
       "<Figure size 720x360 with 1 Axes>"
      ]
     },
     "metadata": {
      "needs_background": "light"
     },
     "output_type": "display_data"
    },
    {
     "data": {
      "image/png": "[encoded data removed]",
      "text/plain": [
       "<Figure size 720x360 with 1 Axes>"
      ]
     },
     "metadata": {
      "needs_background": "light"
     },
     "output_type": "display_data"
    },
    {
     "data": {
      "image/png": "[encoded data removed]",
      "text/plain": [
       "<Figure size 720x360 with 1 Axes>"
      ]
     },
     "metadata": {
      "needs_background": "light"
     },
     "output_type": "display_data"
    },
    {
     "data": {
      "image/png": "[encoded data removed]",
      "text/plain": [
       "<Figure size 720x360 with 1 Axes>"
      ]
     },
     "metadata": {
      "needs_background": "light"
     },
     "output_type": "display_data"
    }
   ],
   "source": [
    "lstnumcols = list(df1.select_dtypes(exclude='object').columns)\n",
    "for i in lstnumcols:\n",
    "    sns.boxplot(df1[i])\n",
    "    plt.show()"
   ]
  },
  {
   "cell_type": "markdown",
   "id": "73e9ee41",
   "metadata": {},
   "source": [
    "Utilizing the boxplot on the above dataframe, we can determine the outliers and establish that all columns, with the exception of freemem, contain outliers."
   ]
  },
  {
   "cell_type": "code",
   "execution_count": null,
   "id": "1a44009e",
   "metadata": {},
   "outputs": [
    {
     "name": "stderr",
     "output_type": "stream",
     "text": [
      "NumExpr defaulting to 4 threads.\n"
     ]
    },
    {
     "data": {
      "text/plain": [
       "<seaborn.axisgrid.PairGrid at 0x217514551c0>"
      ]
     },
     "execution_count": 11,
     "metadata": {},
     "output_type": "execute_result"
    }
   ],
   "source": [
    "sns.pairplot(data=df1)"
   ]
  },
  {
   "cell_type": "markdown",
   "id": "761f132d",
   "metadata": {},
   "source": [
    "Pair plots are used to determine the most distinct clusters or the best combination of characteristics to describe a connection between two variables. By creating some straightforward linear separations or basic lines in our data set, it also helps to create some straightforward classification models."
   ]
  },
  {
   "cell_type": "markdown",
   "id": "219dc918",
   "metadata": {},
   "source": [
    "The corr() function is a fantastic feature of the Pandas module. The connection between each column in your data collection is determined using the corr() technique."
   ]
  },
  {
   "cell_type": "code",
   "execution_count": null,
   "id": "1f7faad4",
   "metadata": {},
   "outputs": [],
   "source": [
    "cor = df1.corr()\n",
    "cor"
   ]
  },
  {
   "cell_type": "code",
   "execution_count": null,
   "id": "59fb6591",
   "metadata": {},
   "outputs": [],
   "source": [
    "plt.figure(figsize=(12,8))\n",
    "\n",
    "sns.heatmap(cor,annot=True,mask=np.triu(cor,+1),cmap='RdYlGn');"
   ]
  },
  {
   "cell_type": "markdown",
   "id": "896cb356",
   "metadata": {},
   "source": [
    "inferece from the above corelation heat map we can say the following \n",
    "fork is highly correlated with pfit, vfit, exec\n",
    "sread,swrite is correlated with scall\n",
    "pgfree , ppgout are highly correlated"
   ]
  },
  {
   "cell_type": "markdown",
   "id": "a31385a3",
   "metadata": {},
   "source": [
    "# 1.2 Impute null values if present, also check for the values which are equal to zero. Do they have any meaning or do we need to change them or drop them? Check for the possibility of creating new features if required. Also check for outliers and duplicates if there."
   ]
  },
  {
   "cell_type": "code",
   "execution_count": 14,
   "id": "52550864",
   "metadata": {},
   "outputs": [],
   "source": [
    "df1[\"rchar\"].fillna(df1['rchar'].median(),inplace=True)"
   ]
  },
  {
   "cell_type": "code",
   "execution_count": 15,
   "id": "fd07003c",
   "metadata": {},
   "outputs": [],
   "source": [
    "df1[\"wchar\"].fillna(df1['wchar'].median(),inplace=True)"
   ]
  },
  {
   "cell_type": "markdown",
   "id": "c0f5acb7",
   "metadata": {},
   "source": [
    "We utilise median since there are NO NULL values within it because the rchar and wchar both include NULL values."
   ]
  },
  {
   "cell_type": "code",
   "execution_count": 16,
   "id": "11256c6d",
   "metadata": {},
   "outputs": [
    {
     "data": {
      "text/plain": [
       "lread       0\n",
       "lwrite      0\n",
       "scall       0\n",
       "sread       0\n",
       "swrite      0\n",
       "fork        0\n",
       "exec        0\n",
       "rchar       0\n",
       "wchar       0\n",
       "pgout       0\n",
       "ppgout      0\n",
       "pgfree      0\n",
       "pgscan      0\n",
       "atch        0\n",
       "pgin        0\n",
       "ppgin       0\n",
       "pflt        0\n",
       "vflt        0\n",
       "runqsz      0\n",
       "freemem     0\n",
       "freeswap    0\n",
       "usr         0\n",
       "dtype: int64"
      ]
     },
     "execution_count": 16,
     "metadata": {},
     "output_type": "execute_result"
    }
   ],
   "source": [
    "df1.isna().sum()"
   ]
  },
  {
   "cell_type": "code",
   "execution_count": 17,
   "id": "56e084fd",
   "metadata": {},
   "outputs": [
    {
     "data": {
      "text/plain": [
       "Index(['lread', 'lwrite', 'scall', 'sread', 'swrite', 'fork', 'exec', 'rchar',\n",
       "       'wchar', 'pgout', 'ppgout', 'pgfree', 'pgscan', 'atch', 'pgin', 'ppgin',\n",
       "       'pflt', 'vflt', 'runqsz', 'freemem', 'freeswap', 'usr'],\n",
       "      dtype='object')"
      ]
     },
     "execution_count": 17,
     "metadata": {},
     "output_type": "execute_result"
    }
   ],
   "source": [
    "df1.columns"
   ]
  },
  {
   "cell_type": "code",
   "execution_count": 18,
   "id": "8c2a342c",
   "metadata": {},
   "outputs": [
    {
     "data": {
      "text/plain": [
       "lread        675\n",
       "lwrite      2684\n",
       "scall          0\n",
       "sread          0\n",
       "swrite         0\n",
       "fork          21\n",
       "exec          21\n",
       "rchar          0\n",
       "wchar          0\n",
       "pgout       4878\n",
       "ppgout      4878\n",
       "pgfree      4869\n",
       "pgscan      6448\n",
       "atch        4575\n",
       "pgin        1220\n",
       "ppgin       1220\n",
       "pflt           3\n",
       "vflt           0\n",
       "runqsz         0\n",
       "freemem        0\n",
       "freeswap       0\n",
       "usr          283\n",
       "dtype: int64"
      ]
     },
     "execution_count": 18,
     "metadata": {},
     "output_type": "execute_result"
    }
   ],
   "source": [
    "df1.isin([0]).sum()"
   ]
  },
  {
   "cell_type": "markdown",
   "id": "20130644",
   "metadata": {},
   "source": [
    "Using the isna the nullvaues of the dataset are identified. There are ZERO values present in the dataset as in the above function."
   ]
  },
  {
   "cell_type": "markdown",
   "id": "4e66496e",
   "metadata": {},
   "source": [
    "# 1.3 Encode the data (having string values) for Modelling. Split the data into train and test (70:30). Apply Linear regression using scikit learn. Perform checks for significant variables using appropriate method from statsmodel. Create multiple models and check the performance of Predictions on Train and Test sets using Rsquare, RMSE & Adj Rsquare. Compare these models and select the best one with appropriate reasoning."
   ]
  },
  {
   "cell_type": "code",
   "execution_count": 19,
   "id": "d924a75c",
   "metadata": {},
   "outputs": [
    {
     "data": {
      "text/html": [
       "<div>\n",
       "<style scoped>\n",
       "    .dataframe tbody tr th:only-of-type {\n",
       "        vertical-align: middle;\n",
       "    }\n",
       "\n",
       "    .dataframe tbody tr th {\n",
       "        vertical-align: top;\n",
       "    }\n",
       "\n",
       "    .dataframe thead th {\n",
       "        text-align: right;\n",
       "    }\n",
       "</style>\n",
       "<table border=\"1\" class=\"dataframe\">\n",
       "  <thead>\n",
       "    <tr style=\"text-align: right;\">\n",
       "      <th></th>\n",
       "      <th>lread</th>\n",
       "      <th>lwrite</th>\n",
       "      <th>scall</th>\n",
       "      <th>sread</th>\n",
       "      <th>swrite</th>\n",
       "      <th>fork</th>\n",
       "      <th>exec</th>\n",
       "      <th>rchar</th>\n",
       "      <th>wchar</th>\n",
       "      <th>pgout</th>\n",
       "      <th>...</th>\n",
       "      <th>pgscan</th>\n",
       "      <th>atch</th>\n",
       "      <th>pgin</th>\n",
       "      <th>ppgin</th>\n",
       "      <th>pflt</th>\n",
       "      <th>vflt</th>\n",
       "      <th>freemem</th>\n",
       "      <th>freeswap</th>\n",
       "      <th>usr</th>\n",
       "      <th>runqsz_Not_CPU_Bound</th>\n",
       "    </tr>\n",
       "  </thead>\n",
       "  <tbody>\n",
       "    <tr>\n",
       "      <th>0</th>\n",
       "      <td>1</td>\n",
       "      <td>0</td>\n",
       "      <td>2147</td>\n",
       "      <td>79</td>\n",
       "      <td>68</td>\n",
       "      <td>0.2</td>\n",
       "      <td>0.2</td>\n",
       "      <td>40671.0</td>\n",
       "      <td>53995.0</td>\n",
       "      <td>0.0</td>\n",
       "      <td>...</td>\n",
       "      <td>0.0</td>\n",
       "      <td>0.0</td>\n",
       "      <td>1.6</td>\n",
       "      <td>2.6</td>\n",
       "      <td>16.00</td>\n",
       "      <td>26.40</td>\n",
       "      <td>4670</td>\n",
       "      <td>1730946</td>\n",
       "      <td>95</td>\n",
       "      <td>0</td>\n",
       "    </tr>\n",
       "    <tr>\n",
       "      <th>1</th>\n",
       "      <td>0</td>\n",
       "      <td>0</td>\n",
       "      <td>170</td>\n",
       "      <td>18</td>\n",
       "      <td>21</td>\n",
       "      <td>0.2</td>\n",
       "      <td>0.2</td>\n",
       "      <td>448.0</td>\n",
       "      <td>8385.0</td>\n",
       "      <td>0.0</td>\n",
       "      <td>...</td>\n",
       "      <td>0.0</td>\n",
       "      <td>0.0</td>\n",
       "      <td>0.0</td>\n",
       "      <td>0.0</td>\n",
       "      <td>15.63</td>\n",
       "      <td>16.83</td>\n",
       "      <td>7278</td>\n",
       "      <td>1869002</td>\n",
       "      <td>97</td>\n",
       "      <td>1</td>\n",
       "    </tr>\n",
       "    <tr>\n",
       "      <th>2</th>\n",
       "      <td>15</td>\n",
       "      <td>3</td>\n",
       "      <td>2162</td>\n",
       "      <td>159</td>\n",
       "      <td>119</td>\n",
       "      <td>2.0</td>\n",
       "      <td>2.4</td>\n",
       "      <td>125473.5</td>\n",
       "      <td>31950.0</td>\n",
       "      <td>0.0</td>\n",
       "      <td>...</td>\n",
       "      <td>0.0</td>\n",
       "      <td>1.2</td>\n",
       "      <td>6.0</td>\n",
       "      <td>9.4</td>\n",
       "      <td>150.20</td>\n",
       "      <td>220.20</td>\n",
       "      <td>702</td>\n",
       "      <td>1021237</td>\n",
       "      <td>87</td>\n",
       "      <td>1</td>\n",
       "    </tr>\n",
       "    <tr>\n",
       "      <th>3</th>\n",
       "      <td>0</td>\n",
       "      <td>0</td>\n",
       "      <td>160</td>\n",
       "      <td>12</td>\n",
       "      <td>16</td>\n",
       "      <td>0.2</td>\n",
       "      <td>0.2</td>\n",
       "      <td>125473.5</td>\n",
       "      <td>8670.0</td>\n",
       "      <td>0.0</td>\n",
       "      <td>...</td>\n",
       "      <td>0.0</td>\n",
       "      <td>0.0</td>\n",
       "      <td>0.2</td>\n",
       "      <td>0.2</td>\n",
       "      <td>15.60</td>\n",
       "      <td>16.80</td>\n",
       "      <td>7248</td>\n",
       "      <td>1863704</td>\n",
       "      <td>98</td>\n",
       "      <td>1</td>\n",
       "    </tr>\n",
       "    <tr>\n",
       "      <th>4</th>\n",
       "      <td>5</td>\n",
       "      <td>1</td>\n",
       "      <td>330</td>\n",
       "      <td>39</td>\n",
       "      <td>38</td>\n",
       "      <td>0.4</td>\n",
       "      <td>0.4</td>\n",
       "      <td>125473.5</td>\n",
       "      <td>12185.0</td>\n",
       "      <td>0.0</td>\n",
       "      <td>...</td>\n",
       "      <td>0.0</td>\n",
       "      <td>0.0</td>\n",
       "      <td>1.0</td>\n",
       "      <td>1.2</td>\n",
       "      <td>37.80</td>\n",
       "      <td>47.60</td>\n",
       "      <td>633</td>\n",
       "      <td>1760253</td>\n",
       "      <td>90</td>\n",
       "      <td>1</td>\n",
       "    </tr>\n",
       "  </tbody>\n",
       "</table>\n",
       "<p>5 rows × 22 columns</p>\n",
       "</div>"
      ],
      "text/plain": [
       "   lread  lwrite  scall  sread  swrite  fork  exec     rchar    wchar  pgout  \\\n",
       "0      1       0   2147     79      68   0.2   0.2   40671.0  53995.0    0.0   \n",
       "1      0       0    170     18      21   0.2   0.2     448.0   8385.0    0.0   \n",
       "2     15       3   2162    159     119   2.0   2.4  125473.5  31950.0    0.0   \n",
       "3      0       0    160     12      16   0.2   0.2  125473.5   8670.0    0.0   \n",
       "4      5       1    330     39      38   0.4   0.4  125473.5  12185.0    0.0   \n",
       "\n",
       "   ...  pgscan  atch  pgin  ppgin    pflt    vflt  freemem  freeswap  usr  \\\n",
       "0  ...     0.0   0.0   1.6    2.6   16.00   26.40     4670   1730946   95   \n",
       "1  ...     0.0   0.0   0.0    0.0   15.63   16.83     7278   1869002   97   \n",
       "2  ...     0.0   1.2   6.0    9.4  150.20  220.20      702   1021237   87   \n",
       "3  ...     0.0   0.0   0.2    0.2   15.60   16.80     7248   1863704   98   \n",
       "4  ...     0.0   0.0   1.0    1.2   37.80   47.60      633   1760253   90   \n",
       "\n",
       "   runqsz_Not_CPU_Bound  \n",
       "0                     0  \n",
       "1                     1  \n",
       "2                     1  \n",
       "3                     1  \n",
       "4                     1  \n",
       "\n",
       "[5 rows x 22 columns]"
      ]
     },
     "execution_count": 19,
     "metadata": {},
     "output_type": "execute_result"
    }
   ],
   "source": [
    "df1_dummy = pd.get_dummies(df1, drop_first=True)\n",
    "df1_dummy.head()"
   ]
  },
  {
   "cell_type": "markdown",
   "id": "346f3d0a",
   "metadata": {},
   "source": [
    "Dummy data, as used in informatics, is unimportant information that is used to fill space where genuine data should theoretically be present but does not really contain any relevant information. For both operational and testing purposes, dummy data can be utilised as a stand-in."
   ]
  },
  {
   "cell_type": "markdown",
   "id": "1dddc6a7",
   "metadata": {},
   "source": [
    "Data modification is performed with get dummies(). It creates dummy or indicator variables out of categorical data. Prefix=None, prefix sep=' ', dummy na=False, columns=None, sparse=False, drop first=False, dtype=None, pandas.get dummies Parameters: whose data has to be altered."
   ]
  },
  {
   "cell_type": "code",
   "execution_count": 20,
   "id": "8c48a7dd",
   "metadata": {},
   "outputs": [
    {
     "data": {
      "image/png": "[encoded data removed]",
      "text/plain": [
       "<Figure size 1080x576 with 2 Axes>"
      ]
     },
     "metadata": {
      "needs_background": "light"
     },
     "output_type": "display_data"
    }
   ],
   "source": [
    "plt.figure(figsize=(15,8))\n",
    "sns.heatmap(df1_dummy.corr(),annot=True,mask=np.triu(df1_dummy.corr(),+1))\n",
    "plt.show()"
   ]
  },
  {
   "cell_type": "markdown",
   "id": "919c2171",
   "metadata": {},
   "source": [
    "Despite the addition of zeroes and null values, there is no significant difference between the original and dummy data frames."
   ]
  },
  {
   "cell_type": "code",
   "execution_count": 21,
   "id": "8a84c6a0",
   "metadata": {},
   "outputs": [],
   "source": [
    "import statsmodels.formula.api as SM"
   ]
  },
  {
   "cell_type": "code",
   "execution_count": 22,
   "id": "016c6345",
   "metadata": {},
   "outputs": [
    {
     "data": {
      "text/plain": [
       "'lread+lwrite+scall+sread+swrite+fork+exec+rchar+wchar+pgout+ppgout+pgfree+pgscan+atch+pgin+ppgin+pflt+vflt+runqsz+freemem+freeswap+usr'"
      ]
     },
     "execution_count": 22,
     "metadata": {},
     "output_type": "execute_result"
    }
   ],
   "source": [
    "'+'.join(df1.columns)"
   ]
  },
  {
   "cell_type": "code",
   "execution_count": 23,
   "id": "d5637a2b",
   "metadata": {},
   "outputs": [],
   "source": [
    "formula_MLR_1 = 'usr~lread+lwrite+scall+sread+swrite+fork+exec+rchar+wchar+pgout+ppgout+pgfree+pgscan+atch+pgin+ppgin+pflt+vflt+freemem+freeswap+runqsz_Not_CPU_Bound'"
   ]
  },
  {
   "cell_type": "code",
   "execution_count": 24,
   "id": "8b4f7423",
   "metadata": {},
   "outputs": [
    {
     "data": {
      "text/html": [
       "<table class=\"simpletable\">\n",
       "<caption>OLS Regression Results</caption>\n",
       "<tr>\n",
       "  <th>Dep. Variable:</th>           <td>usr</td>       <th>  R-squared:         </th> <td>   0.640</td> \n",
       "</tr>\n",
       "<tr>\n",
       "  <th>Model:</th>                   <td>OLS</td>       <th>  Adj. R-squared:    </th> <td>   0.639</td> \n",
       "</tr>\n",
       "<tr>\n",
       "  <th>Method:</th>             <td>Least Squares</td>  <th>  F-statistic:       </th> <td>   692.0</td> \n",
       "</tr>\n",
       "<tr>\n",
       "  <th>Date:</th>             <td>Thu, 01 Dec 2022</td> <th>  Prob (F-statistic):</th>  <td>  0.00</td>  \n",
       "</tr>\n",
       "<tr>\n",
       "  <th>Time:</th>                 <td>00:46:36</td>     <th>  Log-Likelihood:    </th> <td> -31296.</td> \n",
       "</tr>\n",
       "<tr>\n",
       "  <th>No. Observations:</th>      <td>  8192</td>      <th>  AIC:               </th> <td>6.264e+04</td>\n",
       "</tr>\n",
       "<tr>\n",
       "  <th>Df Residuals:</th>          <td>  8170</td>      <th>  BIC:               </th> <td>6.279e+04</td>\n",
       "</tr>\n",
       "<tr>\n",
       "  <th>Df Model:</th>              <td>    21</td>      <th>                     </th>     <td> </td>    \n",
       "</tr>\n",
       "<tr>\n",
       "  <th>Covariance Type:</th>      <td>nonrobust</td>    <th>                     </th>     <td> </td>    \n",
       "</tr>\n",
       "</table>\n",
       "<table class=\"simpletable\">\n",
       "<tr>\n",
       "            <td></td>              <th>coef</th>     <th>std err</th>      <th>t</th>      <th>P>|t|</th>  <th>[0.025</th>    <th>0.975]</th>  \n",
       "</tr>\n",
       "<tr>\n",
       "  <th>Intercept</th>            <td>   42.8406</td> <td>    0.623</td> <td>   68.749</td> <td> 0.000</td> <td>   41.619</td> <td>   44.062</td>\n",
       "</tr>\n",
       "<tr>\n",
       "  <th>lread</th>                <td>   -0.0198</td> <td>    0.003</td> <td>   -7.088</td> <td> 0.000</td> <td>   -0.025</td> <td>   -0.014</td>\n",
       "</tr>\n",
       "<tr>\n",
       "  <th>lwrite</th>               <td>    0.0074</td> <td>    0.005</td> <td>    1.522</td> <td> 0.128</td> <td>   -0.002</td> <td>    0.017</td>\n",
       "</tr>\n",
       "<tr>\n",
       "  <th>scall</th>                <td>    0.0010</td> <td>    0.000</td> <td>    8.759</td> <td> 0.000</td> <td>    0.001</td> <td>    0.001</td>\n",
       "</tr>\n",
       "<tr>\n",
       "  <th>sread</th>                <td>-9.749e-05</td> <td>    0.002</td> <td>   -0.061</td> <td> 0.952</td> <td>   -0.003</td> <td>    0.003</td>\n",
       "</tr>\n",
       "<tr>\n",
       "  <th>swrite</th>               <td>   -0.0016</td> <td>    0.002</td> <td>   -0.889</td> <td> 0.374</td> <td>   -0.005</td> <td>    0.002</td>\n",
       "</tr>\n",
       "<tr>\n",
       "  <th>fork</th>                 <td>   -1.8871</td> <td>    0.209</td> <td>   -9.039</td> <td> 0.000</td> <td>   -2.296</td> <td>   -1.478</td>\n",
       "</tr>\n",
       "<tr>\n",
       "  <th>exec</th>                 <td>   -0.0416</td> <td>    0.041</td> <td>   -1.013</td> <td> 0.311</td> <td>   -0.122</td> <td>    0.039</td>\n",
       "</tr>\n",
       "<tr>\n",
       "  <th>rchar</th>                <td>-3.657e-06</td> <td> 7.19e-07</td> <td>   -5.084</td> <td> 0.000</td> <td>-5.07e-06</td> <td>-2.25e-06</td>\n",
       "</tr>\n",
       "<tr>\n",
       "  <th>wchar</th>                <td>-1.066e-05</td> <td>  1.1e-06</td> <td>   -9.731</td> <td> 0.000</td> <td>-1.28e-05</td> <td>-8.51e-06</td>\n",
       "</tr>\n",
       "<tr>\n",
       "  <th>pgout</th>                <td>   -0.2048</td> <td>    0.054</td> <td>   -3.799</td> <td> 0.000</td> <td>   -0.310</td> <td>   -0.099</td>\n",
       "</tr>\n",
       "<tr>\n",
       "  <th>ppgout</th>               <td>    0.1270</td> <td>    0.031</td> <td>    4.109</td> <td> 0.000</td> <td>    0.066</td> <td>    0.188</td>\n",
       "</tr>\n",
       "<tr>\n",
       "  <th>pgfree</th>               <td>   -0.0880</td> <td>    0.016</td> <td>   -5.553</td> <td> 0.000</td> <td>   -0.119</td> <td>   -0.057</td>\n",
       "</tr>\n",
       "<tr>\n",
       "  <th>pgscan</th>               <td>    0.0125</td> <td>    0.005</td> <td>    2.644</td> <td> 0.008</td> <td>    0.003</td> <td>    0.022</td>\n",
       "</tr>\n",
       "<tr>\n",
       "  <th>atch</th>                 <td>   -0.0396</td> <td>    0.022</td> <td>   -1.773</td> <td> 0.076</td> <td>   -0.083</td> <td>    0.004</td>\n",
       "</tr>\n",
       "<tr>\n",
       "  <th>pgin</th>                 <td>    0.0581</td> <td>    0.024</td> <td>    2.383</td> <td> 0.017</td> <td>    0.010</td> <td>    0.106</td>\n",
       "</tr>\n",
       "<tr>\n",
       "  <th>ppgin</th>                <td>   -0.0392</td> <td>    0.016</td> <td>   -2.507</td> <td> 0.012</td> <td>   -0.070</td> <td>   -0.009</td>\n",
       "</tr>\n",
       "<tr>\n",
       "  <th>pflt</th>                 <td>   -0.0401</td> <td>    0.004</td> <td>  -11.182</td> <td> 0.000</td> <td>   -0.047</td> <td>   -0.033</td>\n",
       "</tr>\n",
       "<tr>\n",
       "  <th>vflt</th>                 <td>    0.0228</td> <td>    0.003</td> <td>    8.215</td> <td> 0.000</td> <td>    0.017</td> <td>    0.028</td>\n",
       "</tr>\n",
       "<tr>\n",
       "  <th>freemem</th>              <td>   -0.0017</td> <td> 6.37e-05</td> <td>  -26.141</td> <td> 0.000</td> <td>   -0.002</td> <td>   -0.002</td>\n",
       "</tr>\n",
       "<tr>\n",
       "  <th>freeswap</th>             <td> 3.325e-05</td> <td> 3.82e-07</td> <td>   87.082</td> <td> 0.000</td> <td> 3.25e-05</td> <td>  3.4e-05</td>\n",
       "</tr>\n",
       "<tr>\n",
       "  <th>runqsz_Not_CPU_Bound</th> <td>    7.9475</td> <td>    0.258</td> <td>   30.828</td> <td> 0.000</td> <td>    7.442</td> <td>    8.453</td>\n",
       "</tr>\n",
       "</table>\n",
       "<table class=\"simpletable\">\n",
       "<tr>\n",
       "  <th>Omnibus:</th>       <td>1928.707</td> <th>  Durbin-Watson:     </th> <td>   2.026</td>\n",
       "</tr>\n",
       "<tr>\n",
       "  <th>Prob(Omnibus):</th>  <td> 0.000</td>  <th>  Jarque-Bera (JB):  </th> <td>5359.778</td>\n",
       "</tr>\n",
       "<tr>\n",
       "  <th>Skew:</th>           <td>-1.244</td>  <th>  Prob(JB):          </th> <td>    0.00</td>\n",
       "</tr>\n",
       "<tr>\n",
       "  <th>Kurtosis:</th>       <td> 6.084</td>  <th>  Cond. No.          </th> <td>7.28e+06</td>\n",
       "</tr>\n",
       "</table><br/><br/>Notes:<br/>[1] Standard Errors assume that the covariance matrix of the errors is correctly specified.<br/>[2] The condition number is large, 7.28e+06. This might indicate that there are<br/>strong multicollinearity or other numerical problems."
      ],
      "text/plain": [
       "<class 'statsmodels.iolib.summary.Summary'>\n",
       "\"\"\"\n",
       "                            OLS Regression Results                            \n",
       "==============================================================================\n",
       "Dep. Variable:                    usr   R-squared:                       0.640\n",
       "Model:                            OLS   Adj. R-squared:                  0.639\n",
       "Method:                 Least Squares   F-statistic:                     692.0\n",
       "Date:                Thu, 01 Dec 2022   Prob (F-statistic):               0.00\n",
       "Time:                        00:46:36   Log-Likelihood:                -31296.\n",
       "No. Observations:                8192   AIC:                         6.264e+04\n",
       "Df Residuals:                    8170   BIC:                         6.279e+04\n",
       "Df Model:                          21                                         \n",
       "Covariance Type:            nonrobust                                         \n",
       "========================================================================================\n",
       "                           coef    std err          t      P>|t|      [0.025      0.975]\n",
       "----------------------------------------------------------------------------------------\n",
       "Intercept               42.8406      0.623     68.749      0.000      41.619      44.062\n",
       "lread                   -0.0198      0.003     -7.088      0.000      -0.025      -0.014\n",
       "lwrite                   0.0074      0.005      1.522      0.128      -0.002       0.017\n",
       "scall                    0.0010      0.000      8.759      0.000       0.001       0.001\n",
       "sread                -9.749e-05      0.002     -0.061      0.952      -0.003       0.003\n",
       "swrite                  -0.0016      0.002     -0.889      0.374      -0.005       0.002\n",
       "fork                    -1.8871      0.209     -9.039      0.000      -2.296      -1.478\n",
       "exec                    -0.0416      0.041     -1.013      0.311      -0.122       0.039\n",
       "rchar                -3.657e-06   7.19e-07     -5.084      0.000   -5.07e-06   -2.25e-06\n",
       "wchar                -1.066e-05    1.1e-06     -9.731      0.000   -1.28e-05   -8.51e-06\n",
       "pgout                   -0.2048      0.054     -3.799      0.000      -0.310      -0.099\n",
       "ppgout                   0.1270      0.031      4.109      0.000       0.066       0.188\n",
       "pgfree                  -0.0880      0.016     -5.553      0.000      -0.119      -0.057\n",
       "pgscan                   0.0125      0.005      2.644      0.008       0.003       0.022\n",
       "atch                    -0.0396      0.022     -1.773      0.076      -0.083       0.004\n",
       "pgin                     0.0581      0.024      2.383      0.017       0.010       0.106\n",
       "ppgin                   -0.0392      0.016     -2.507      0.012      -0.070      -0.009\n",
       "pflt                    -0.0401      0.004    -11.182      0.000      -0.047      -0.033\n",
       "vflt                     0.0228      0.003      8.215      0.000       0.017       0.028\n",
       "freemem                 -0.0017   6.37e-05    -26.141      0.000      -0.002      -0.002\n",
       "freeswap              3.325e-05   3.82e-07     87.082      0.000    3.25e-05     3.4e-05\n",
       "runqsz_Not_CPU_Bound     7.9475      0.258     30.828      0.000       7.442       8.453\n",
       "==============================================================================\n",
       "Omnibus:                     1928.707   Durbin-Watson:                   2.026\n",
       "Prob(Omnibus):                  0.000   Jarque-Bera (JB):             5359.778\n",
       "Skew:                          -1.244   Prob(JB):                         0.00\n",
       "Kurtosis:                       6.084   Cond. No.                     7.28e+06\n",
       "==============================================================================\n",
       "\n",
       "Notes:\n",
       "[1] Standard Errors assume that the covariance matrix of the errors is correctly specified.\n",
       "[2] The condition number is large, 7.28e+06. This might indicate that there are\n",
       "strong multicollinearity or other numerical problems.\n",
       "\"\"\""
      ]
     },
     "execution_count": 24,
     "metadata": {},
     "output_type": "execute_result"
    }
   ],
   "source": [
    "model_MLR_1 = SM.ols(formula=formula_MLR_1,data=df1_dummy).fit()\n",
    "model_MLR_1.summary()"
   ]
  },
  {
   "cell_type": "code",
   "execution_count": 25,
   "id": "3830e604",
   "metadata": {},
   "outputs": [],
   "source": [
    "def vif_cal(input_data):\n",
    "    x_vars=input_data\n",
    "    xvar_names=input_data.columns\n",
    "    for i in range(0,xvar_names.shape[0]):\n",
    "        y=x_vars[xvar_names[i]] \n",
    "        x=x_vars[xvar_names.drop(xvar_names[i])]\n",
    "        rsq=SM.ols(formula=\"y~x\", data=x_vars).fit().rsquared  \n",
    "        vif=round(1/(1-rsq),2)\n",
    "        print (xvar_names[i], \" VIF = \" , vif)"
   ]
  },
  {
   "cell_type": "markdown",
   "id": "adda105e",
   "metadata": {},
   "source": [
    "The measure of multicollinearity in the collection of variables used in multiple regressions is the variance inflation factor. In general, a vif value greater than 10 denotes a high degree of correlation with the other independent variables.\n",
    "To interpret and obtain values from dummy data, VIF computation is done at the column level as shown below."
   ]
  },
  {
   "cell_type": "code",
   "execution_count": 26,
   "id": "55c7fa9c",
   "metadata": {},
   "outputs": [
    {
     "name": "stdout",
     "output_type": "stream",
     "text": [
      "For the first MLR model: \n",
      "\n",
      "Rsquared 0.6401324193780404\n",
      "Adjusted Rsquared 0.6392074231487797\n"
     ]
    }
   ],
   "source": [
    "print('For the first MLR model:','\\n')\n",
    "\n",
    "print('Rsquared',model_MLR_1.rsquared)\n",
    "print('Adjusted Rsquared',model_MLR_1.rsquared_adj)"
   ]
  },
  {
   "cell_type": "code",
   "execution_count": 27,
   "id": "09c33022",
   "metadata": {
    "scrolled": false
   },
   "outputs": [
    {
     "name": "stdout",
     "output_type": "stream",
     "text": [
      "lread  VIF =  1.49\n",
      "lwrite  VIF =  1.43\n",
      "scall  VIF =  2.48\n",
      "sread  VIF =  6.87\n",
      "swrite  VIF =  5.4\n",
      "fork  VIF =  17.97\n",
      "exec  VIF =  3.07\n",
      "rchar  VIF =  1.97\n",
      "wchar  VIF =  1.59\n",
      "pgout  VIF =  5.49\n",
      "ppgout  VIF =  14.83\n",
      "pgfree  VIF =  17.63\n",
      "pgscan  VIF =  7.6\n",
      "atch  VIF =  1.09\n",
      "pgin  VIF =  7.66\n",
      "ppgin  VIF =  8.14\n",
      "pflt  VIF =  11.29\n",
      "vflt  VIF =  18.83\n",
      "freemem  VIF =  1.67\n",
      "freeswap  VIF =  1.74\n",
      "runqsz_Not_CPU_Bound  VIF =  1.11\n"
     ]
    }
   ],
   "source": [
    "vif_cal(input_data=df1_dummy[['lread', 'lwrite', 'scall', 'sread', 'swrite', 'fork', 'exec', 'rchar',\n",
    "       'wchar','pgout', 'ppgout', 'pgfree', 'pgscan', 'atch', 'pgin', 'ppgin',\n",
    "       'pflt', 'vflt', 'freemem', 'freeswap', 'runqsz_Not_CPU_Bound']])"
   ]
  },
  {
   "cell_type": "markdown",
   "id": "b4ac21db",
   "metadata": {},
   "source": [
    "for geting acurate models vflt  VIF =  18.83 has to be eliminated"
   ]
  },
  {
   "cell_type": "markdown",
   "id": "3ff61928",
   "metadata": {},
   "source": [
    "# Model without the 'vflt' variable"
   ]
  },
  {
   "cell_type": "code",
   "execution_count": 28,
   "id": "17c8eab0",
   "metadata": {},
   "outputs": [],
   "source": [
    "formula_MLR_2 = 'usr~lread+lwrite+scall+sread+swrite+fork+exec+rchar+wchar+pgout+ppgout+pgfree+pgscan+atch+pgin+ppgin+pflt+freemem+freeswap+runqsz_Not_CPU_Bound'"
   ]
  },
  {
   "cell_type": "code",
   "execution_count": 29,
   "id": "1a671793",
   "metadata": {},
   "outputs": [],
   "source": [
    "model_MLR_2 = SM.ols(formula=formula_MLR_2,data=df1_dummy).fit()"
   ]
  },
  {
   "cell_type": "code",
   "execution_count": 30,
   "id": "58485d02",
   "metadata": {},
   "outputs": [
    {
     "name": "stdout",
     "output_type": "stream",
     "text": [
      "For the second MLR model: \n",
      "\n",
      "Rsquared 0.6371594972102304\n",
      "Adjusted Rsquared 0.6362713794699544\n"
     ]
    }
   ],
   "source": [
    "print('For the second MLR model:','\\n')\n",
    "\n",
    "print('Rsquared',model_MLR_2.rsquared)\n",
    "print('Adjusted Rsquared',model_MLR_2.rsquared_adj)"
   ]
  },
  {
   "cell_type": "markdown",
   "id": "1319522d",
   "metadata": {},
   "source": [
    "After excluding the vflt variable from the dataset, the updayed MLR model will have Rsquard 0.637, Adjusted Rsquared 0.636"
   ]
  },
  {
   "cell_type": "code",
   "execution_count": 31,
   "id": "3a27577e",
   "metadata": {},
   "outputs": [
    {
     "name": "stdout",
     "output_type": "stream",
     "text": [
      "lread  VIF =  1.49\n",
      "lwrite  VIF =  1.43\n",
      "scall  VIF =  2.43\n",
      "sread  VIF =  6.82\n",
      "swrite  VIF =  5.36\n",
      "fork  VIF =  12.29\n",
      "exec  VIF =  3.06\n",
      "rchar  VIF =  1.96\n",
      "wchar  VIF =  1.58\n",
      "pgout  VIF =  5.48\n",
      "ppgout  VIF =  14.83\n",
      "pgfree  VIF =  17.43\n",
      "pgscan  VIF =  7.6\n",
      "atch  VIF =  1.07\n",
      "pgin  VIF =  7.25\n",
      "ppgin  VIF =  8.02\n",
      "pflt  VIF =  8.72\n",
      "freemem  VIF =  1.67\n",
      "freeswap  VIF =  1.65\n",
      "runqsz_Not_CPU_Bound  VIF =  1.11\n"
     ]
    }
   ],
   "source": [
    "vif_cal(input_data=df1_dummy[['lread', 'lwrite', 'scall', 'sread', 'swrite', 'fork', 'exec', 'rchar',\n",
    "       'wchar', 'pgout', 'ppgout', 'pgfree', 'pgscan', 'atch', 'pgin', 'ppgin',\n",
    "       'pflt', 'freemem', 'freeswap', 'runqsz_Not_CPU_Bound']])"
   ]
  },
  {
   "cell_type": "markdown",
   "id": "f508cf78",
   "metadata": {},
   "source": [
    "for geting acurate models pgfree  VIF =  17.43 has to be eliminated"
   ]
  },
  {
   "cell_type": "markdown",
   "id": "f213e62d",
   "metadata": {},
   "source": [
    "# Model without the 'pgfree' variable"
   ]
  },
  {
   "cell_type": "code",
   "execution_count": 32,
   "id": "4c4f869a",
   "metadata": {},
   "outputs": [],
   "source": [
    "formula_MLR_3 = 'usr~lread+lwrite+scall+sread+swrite+fork+exec+rchar+wchar+pgout+ppgout+pgscan+atch+pgin+ppgin+pflt+freemem+freeswap+runqsz_Not_CPU_Bound'"
   ]
  },
  {
   "cell_type": "code",
   "execution_count": 33,
   "id": "61099905",
   "metadata": {},
   "outputs": [],
   "source": [
    "model_MLR_3 = SM.ols(formula=formula_MLR_3,data=df1_dummy).fit()"
   ]
  },
  {
   "cell_type": "code",
   "execution_count": 34,
   "id": "2d879771",
   "metadata": {},
   "outputs": [
    {
     "name": "stdout",
     "output_type": "stream",
     "text": [
      "For the third MLR model: \n",
      "\n",
      "Rsquared 0.6361874949460651\n",
      "Adjusted Rsquared 0.635341626419875\n"
     ]
    }
   ],
   "source": [
    "print('For the third MLR model:','\\n')\n",
    "\n",
    "print('Rsquared',model_MLR_3.rsquared)\n",
    "print('Adjusted Rsquared',model_MLR_3.rsquared_adj)"
   ]
  },
  {
   "cell_type": "markdown",
   "id": "0e394d03",
   "metadata": {},
   "source": [
    "After excluding the pgfree variable from the dataset, the updayed MLR model will have Rsquard 0.637, Adjusted Rsquared 0.636"
   ]
  },
  {
   "cell_type": "code",
   "execution_count": 35,
   "id": "935e24e9",
   "metadata": {},
   "outputs": [
    {
     "name": "stdout",
     "output_type": "stream",
     "text": [
      "lread  VIF =  1.49\n",
      "lwrite  VIF =  1.43\n",
      "scall  VIF =  2.43\n",
      "sread  VIF =  6.8\n",
      "swrite  VIF =  5.35\n",
      "fork  VIF =  12.29\n",
      "exec  VIF =  3.05\n",
      "rchar  VIF =  1.96\n",
      "wchar  VIF =  1.58\n",
      "pgout  VIF =  5.47\n",
      "ppgout  VIF =  9.8\n",
      "pgscan  VIF =  3.46\n",
      "atch  VIF =  1.07\n",
      "pgin  VIF =  7.24\n",
      "ppgin  VIF =  8.01\n",
      "pflt  VIF =  8.71\n",
      "freemem  VIF =  1.67\n",
      "freeswap  VIF =  1.65\n",
      "runqsz_Not_CPU_Bound  VIF =  1.11\n"
     ]
    }
   ],
   "source": [
    "vif_cal(input_data=df1_dummy[['lread', 'lwrite', 'scall', 'sread', 'swrite', 'fork', 'exec', 'rchar',\n",
    "       'wchar', 'pgout', 'ppgout', 'pgscan', 'atch', 'pgin', 'ppgin',\n",
    "       'pflt', 'freemem', 'freeswap', 'runqsz_Not_CPU_Bound']])"
   ]
  },
  {
   "cell_type": "markdown",
   "id": "7f992a92",
   "metadata": {},
   "source": [
    "for geting acurate models fork  VIF =  12.29 has to be eliminated"
   ]
  },
  {
   "cell_type": "markdown",
   "id": "4ae693b0",
   "metadata": {},
   "source": [
    "# Model without the 'fork' variable"
   ]
  },
  {
   "cell_type": "code",
   "execution_count": 36,
   "id": "3921042e",
   "metadata": {},
   "outputs": [],
   "source": [
    "formula_MLR_4 = 'usr~lread+lwrite+scall+sread+swrite+exec+rchar+wchar+pgout+ppgout+pgscan+atch+pgin+ppgin+pflt+freemem+freeswap+runqsz_Not_CPU_Bound'"
   ]
  },
  {
   "cell_type": "code",
   "execution_count": 37,
   "id": "29e23631",
   "metadata": {},
   "outputs": [],
   "source": [
    "model_MLR_4 = SM.ols(formula=formula_MLR_4,data=df1_dummy).fit()"
   ]
  },
  {
   "cell_type": "code",
   "execution_count": 38,
   "id": "b0a427dd",
   "metadata": {},
   "outputs": [
    {
     "name": "stdout",
     "output_type": "stream",
     "text": [
      "For the fourth MLR model: \n",
      "\n",
      "Rsquared 0.6349424162152141\n",
      "Adjusted Rsquared 0.6341384230048719\n"
     ]
    }
   ],
   "source": [
    "print('For the fourth MLR model:','\\n')\n",
    "\n",
    "print('Rsquared',model_MLR_4.rsquared)\n",
    "print('Adjusted Rsquared',model_MLR_4.rsquared_adj)"
   ]
  },
  {
   "cell_type": "markdown",
   "id": "e87a6732",
   "metadata": {},
   "source": [
    "After excluding the pgfree variable from the dataset, the updayed MLR model will have Rsquard 0.6349, Adjusted Rsquared 0.6341"
   ]
  },
  {
   "cell_type": "code",
   "execution_count": 39,
   "id": "43355961",
   "metadata": {},
   "outputs": [
    {
     "name": "stdout",
     "output_type": "stream",
     "text": [
      "lread  VIF =  1.49\n",
      "lwrite  VIF =  1.42\n",
      "scall  VIF =  2.41\n",
      "sread  VIF =  6.79\n",
      "swrite  VIF =  5.2\n",
      "exec  VIF =  1.9\n",
      "rchar  VIF =  1.96\n",
      "wchar  VIF =  1.57\n",
      "pgout  VIF =  5.47\n",
      "ppgout  VIF =  9.8\n",
      "pgscan  VIF =  3.46\n",
      "atch  VIF =  1.07\n",
      "pgin  VIF =  7.24\n",
      "ppgin  VIF =  8.01\n",
      "pflt  VIF =  2.36\n",
      "freemem  VIF =  1.67\n",
      "freeswap  VIF =  1.65\n",
      "runqsz_Not_CPU_Bound  VIF =  1.11\n"
     ]
    }
   ],
   "source": [
    "vif_cal(input_data=df1_dummy[['lread', 'lwrite', 'scall', 'sread', 'swrite', 'exec', 'rchar',\n",
    "       'wchar', 'pgout', 'ppgout', 'pgscan', 'atch', 'pgin', 'ppgin',\n",
    "       'pflt', 'freemem', 'freeswap', 'runqsz_Not_CPU_Bound']])"
   ]
  },
  {
   "cell_type": "markdown",
   "id": "3e93f99b",
   "metadata": {},
   "source": [
    "for geting acurate models pgout  VIF =  5.47 has to be eliminated"
   ]
  },
  {
   "cell_type": "markdown",
   "id": "5e9a224f",
   "metadata": {},
   "source": [
    "# Model without the 'ppgout' variable"
   ]
  },
  {
   "cell_type": "code",
   "execution_count": 40,
   "id": "ee151887",
   "metadata": {},
   "outputs": [],
   "source": [
    "formula_MLR_5 = 'usr~lread+lwrite+scall+sread+swrite+exec+rchar+wchar+pgout+pgscan+atch+pgin+ppgin+pflt+freemem+freeswap+runqsz_Not_CPU_Bound'"
   ]
  },
  {
   "cell_type": "code",
   "execution_count": 41,
   "id": "d4b45526",
   "metadata": {},
   "outputs": [],
   "source": [
    "model_MLR_5 = SM.ols(formula=formula_MLR_5,data=df1_dummy).fit()"
   ]
  },
  {
   "cell_type": "code",
   "execution_count": 42,
   "id": "40754cd1",
   "metadata": {},
   "outputs": [
    {
     "name": "stdout",
     "output_type": "stream",
     "text": [
      "For the fifth MLR model: \n",
      "\n",
      "Rsquared 0.6348347241300614\n",
      "Adjusted Rsquared 0.6340752661303319\n"
     ]
    }
   ],
   "source": [
    "print('For the fifth MLR model:','\\n')\n",
    "\n",
    "print('Rsquared',model_MLR_5.rsquared)\n",
    "print('Adjusted Rsquared',model_MLR_5.rsquared_adj)"
   ]
  },
  {
   "cell_type": "code",
   "execution_count": 43,
   "id": "e0bf6ab1",
   "metadata": {},
   "outputs": [
    {
     "name": "stdout",
     "output_type": "stream",
     "text": [
      "lread  VIF =  1.47\n",
      "lwrite  VIF =  1.42\n",
      "scall  VIF =  2.41\n",
      "sread  VIF =  6.77\n",
      "swrite  VIF =  5.19\n",
      "exec  VIF =  1.9\n",
      "rchar  VIF =  1.96\n",
      "wchar  VIF =  1.57\n",
      "pgout  VIF =  1.58\n",
      "pgscan  VIF =  1.86\n",
      "atch  VIF =  1.07\n",
      "pgin  VIF =  7.23\n",
      "ppgin  VIF =  7.95\n",
      "pflt  VIF =  2.36\n",
      "freemem  VIF =  1.67\n",
      "freeswap  VIF =  1.64\n",
      "runqsz_Not_CPU_Bound  VIF =  1.11\n"
     ]
    }
   ],
   "source": [
    "vif_cal(input_data=df1_dummy[['lread', 'lwrite', 'scall', 'sread', 'swrite', 'exec', 'rchar',\n",
    "       'wchar', 'pgout', 'pgscan', 'atch', 'pgin', 'ppgin',\n",
    "       'pflt', 'freemem', 'freeswap', 'runqsz_Not_CPU_Bound']])"
   ]
  },
  {
   "cell_type": "markdown",
   "id": "94671e7d",
   "metadata": {},
   "source": [
    "for geting acurate models ppgin  VIF =  7.95 has to be eliminated"
   ]
  },
  {
   "cell_type": "markdown",
   "id": "07e30eee",
   "metadata": {},
   "source": [
    "# Model without the 'ppgin' variable"
   ]
  },
  {
   "cell_type": "code",
   "execution_count": 44,
   "id": "f1119d70",
   "metadata": {},
   "outputs": [],
   "source": [
    "formula_MLR_6 = 'usr~lread+lwrite+scall+sread+swrite+exec+rchar+wchar+pgout+pgscan+atch+pgin+pflt+freemem+freeswap+runqsz_Not_CPU_Bound'"
   ]
  },
  {
   "cell_type": "code",
   "execution_count": 45,
   "id": "702069b7",
   "metadata": {},
   "outputs": [],
   "source": [
    "model_MLR_6 = SM.ols(formula=formula_MLR_6,data=df1_dummy).fit()"
   ]
  },
  {
   "cell_type": "code",
   "execution_count": 46,
   "id": "f4525674",
   "metadata": {},
   "outputs": [
    {
     "name": "stdout",
     "output_type": "stream",
     "text": [
      "For the sixth MLR model: \n",
      "\n",
      "Rsquared 0.6343388612251305\n",
      "Adjusted Rsquared 0.6336231941645314\n"
     ]
    }
   ],
   "source": [
    "print('For the sixth MLR model:','\\n')\n",
    "\n",
    "print('Rsquared',model_MLR_6.rsquared)\n",
    "print('Adjusted Rsquared',model_MLR_6.rsquared_adj)"
   ]
  },
  {
   "cell_type": "code",
   "execution_count": 47,
   "id": "d4efc900",
   "metadata": {},
   "outputs": [
    {
     "name": "stdout",
     "output_type": "stream",
     "text": [
      "lread  VIF =  1.47\n",
      "lwrite  VIF =  1.42\n",
      "scall  VIF =  2.41\n",
      "sread  VIF =  6.77\n",
      "swrite  VIF =  5.19\n",
      "exec  VIF =  1.9\n",
      "rchar  VIF =  1.91\n",
      "wchar  VIF =  1.57\n",
      "pgout  VIF =  1.58\n",
      "pgscan  VIF =  1.72\n",
      "atch  VIF =  1.07\n",
      "pgin  VIF =  1.51\n",
      "pflt  VIF =  2.36\n",
      "freemem  VIF =  1.67\n",
      "freeswap  VIF =  1.64\n",
      "runqsz_Not_CPU_Bound  VIF =  1.11\n"
     ]
    }
   ],
   "source": [
    "vif_cal(input_data=df1_dummy[['lread', 'lwrite', 'scall', 'sread', 'swrite', 'exec', 'rchar',\n",
    "       'wchar', 'pgout', 'pgscan', 'atch', 'pgin',\n",
    "       'pflt', 'freemem', 'freeswap', 'runqsz_Not_CPU_Bound']])"
   ]
  },
  {
   "cell_type": "markdown",
   "id": "7420b085",
   "metadata": {},
   "source": [
    "for geting acurate models sread  VIF =  6.77 has to be eliminated"
   ]
  },
  {
   "cell_type": "markdown",
   "id": "a4563297",
   "metadata": {},
   "source": [
    "# Model without the 'sread' variable"
   ]
  },
  {
   "cell_type": "code",
   "execution_count": 48,
   "id": "9b97ffe4",
   "metadata": {},
   "outputs": [],
   "source": [
    "formula_MLR_7 = 'usr~lread+lwrite+scall+swrite+exec+rchar+wchar+pgout+pgscan+atch+pgin+pflt+freemem+freeswap+runqsz_Not_CPU_Bound'"
   ]
  },
  {
   "cell_type": "code",
   "execution_count": 49,
   "id": "a4bdfd89",
   "metadata": {},
   "outputs": [],
   "source": [
    "model_MLR_7 = SM.ols(formula=formula_MLR_7,data=df1_dummy).fit()"
   ]
  },
  {
   "cell_type": "code",
   "execution_count": 50,
   "id": "7d951510",
   "metadata": {},
   "outputs": [
    {
     "data": {
      "text/html": [
       "<table class=\"simpletable\">\n",
       "<caption>OLS Regression Results</caption>\n",
       "<tr>\n",
       "  <th>Dep. Variable:</th>           <td>usr</td>       <th>  R-squared:         </th> <td>   0.634</td> \n",
       "</tr>\n",
       "<tr>\n",
       "  <th>Model:</th>                   <td>OLS</td>       <th>  Adj. R-squared:    </th> <td>   0.634</td> \n",
       "</tr>\n",
       "<tr>\n",
       "  <th>Method:</th>             <td>Least Squares</td>  <th>  F-statistic:       </th> <td>   945.3</td> \n",
       "</tr>\n",
       "<tr>\n",
       "  <th>Date:</th>             <td>Thu, 01 Dec 2022</td> <th>  Prob (F-statistic):</th>  <td>  0.00</td>  \n",
       "</tr>\n",
       "<tr>\n",
       "  <th>Time:</th>                 <td>00:47:35</td>     <th>  Log-Likelihood:    </th> <td> -31362.</td> \n",
       "</tr>\n",
       "<tr>\n",
       "  <th>No. Observations:</th>      <td>  8192</td>      <th>  AIC:               </th> <td>6.276e+04</td>\n",
       "</tr>\n",
       "<tr>\n",
       "  <th>Df Residuals:</th>          <td>  8176</td>      <th>  BIC:               </th> <td>6.287e+04</td>\n",
       "</tr>\n",
       "<tr>\n",
       "  <th>Df Model:</th>              <td>    15</td>      <th>                     </th>     <td> </td>    \n",
       "</tr>\n",
       "<tr>\n",
       "  <th>Covariance Type:</th>      <td>nonrobust</td>    <th>                     </th>     <td> </td>    \n",
       "</tr>\n",
       "</table>\n",
       "<table class=\"simpletable\">\n",
       "<tr>\n",
       "            <td></td>              <th>coef</th>     <th>std err</th>      <th>t</th>      <th>P>|t|</th>  <th>[0.025</th>    <th>0.975]</th>  \n",
       "</tr>\n",
       "<tr>\n",
       "  <th>Intercept</th>            <td>   44.2090</td> <td>    0.605</td> <td>   73.067</td> <td> 0.000</td> <td>   43.023</td> <td>   45.395</td>\n",
       "</tr>\n",
       "<tr>\n",
       "  <th>lread</th>                <td>   -0.0205</td> <td>    0.003</td> <td>   -7.350</td> <td> 0.000</td> <td>   -0.026</td> <td>   -0.015</td>\n",
       "</tr>\n",
       "<tr>\n",
       "  <th>lwrite</th>               <td>    0.0109</td> <td>    0.005</td> <td>    2.214</td> <td> 0.027</td> <td>    0.001</td> <td>    0.020</td>\n",
       "</tr>\n",
       "<tr>\n",
       "  <th>scall</th>                <td>    0.0013</td> <td>    0.000</td> <td>   11.398</td> <td> 0.000</td> <td>    0.001</td> <td>    0.001</td>\n",
       "</tr>\n",
       "<tr>\n",
       "  <th>swrite</th>               <td>   -0.0033</td> <td>    0.001</td> <td>   -3.109</td> <td> 0.002</td> <td>   -0.005</td> <td>   -0.001</td>\n",
       "</tr>\n",
       "<tr>\n",
       "  <th>exec</th>                 <td>   -0.1862</td> <td>    0.032</td> <td>   -5.734</td> <td> 0.000</td> <td>   -0.250</td> <td>   -0.123</td>\n",
       "</tr>\n",
       "<tr>\n",
       "  <th>rchar</th>                <td> -3.47e-06</td> <td> 6.55e-07</td> <td>   -5.296</td> <td> 0.000</td> <td>-4.75e-06</td> <td>-2.19e-06</td>\n",
       "</tr>\n",
       "<tr>\n",
       "  <th>wchar</th>                <td>-1.103e-05</td> <td> 1.09e-06</td> <td>  -10.084</td> <td> 0.000</td> <td>-1.32e-05</td> <td>-8.88e-06</td>\n",
       "</tr>\n",
       "<tr>\n",
       "  <th>pgout</th>                <td>   -0.1388</td> <td>    0.029</td> <td>   -4.755</td> <td> 0.000</td> <td>   -0.196</td> <td>   -0.082</td>\n",
       "</tr>\n",
       "<tr>\n",
       "  <th>pgscan</th>               <td>   -0.0025</td> <td>    0.002</td> <td>   -1.092</td> <td> 0.275</td> <td>   -0.007</td> <td>    0.002</td>\n",
       "</tr>\n",
       "<tr>\n",
       "  <th>atch</th>                 <td>   -0.0163</td> <td>    0.022</td> <td>   -0.732</td> <td> 0.464</td> <td>   -0.060</td> <td>    0.027</td>\n",
       "</tr>\n",
       "<tr>\n",
       "  <th>pgin</th>                 <td>    0.0266</td> <td>    0.011</td> <td>    2.439</td> <td> 0.015</td> <td>    0.005</td> <td>    0.048</td>\n",
       "</tr>\n",
       "<tr>\n",
       "  <th>pflt</th>                 <td>   -0.0404</td> <td>    0.002</td> <td>  -24.541</td> <td> 0.000</td> <td>   -0.044</td> <td>   -0.037</td>\n",
       "</tr>\n",
       "<tr>\n",
       "  <th>freemem</th>              <td>   -0.0017</td> <td> 6.41e-05</td> <td>  -25.837</td> <td> 0.000</td> <td>   -0.002</td> <td>   -0.002</td>\n",
       "</tr>\n",
       "<tr>\n",
       "  <th>freeswap</th>             <td> 3.251e-05</td> <td> 3.72e-07</td> <td>   87.368</td> <td> 0.000</td> <td> 3.18e-05</td> <td> 3.32e-05</td>\n",
       "</tr>\n",
       "<tr>\n",
       "  <th>runqsz_Not_CPU_Bound</th> <td>    7.9460</td> <td>    0.260</td> <td>   30.595</td> <td> 0.000</td> <td>    7.437</td> <td>    8.455</td>\n",
       "</tr>\n",
       "</table>\n",
       "<table class=\"simpletable\">\n",
       "<tr>\n",
       "  <th>Omnibus:</th>       <td>2002.518</td> <th>  Durbin-Watson:     </th> <td>   2.025</td>\n",
       "</tr>\n",
       "<tr>\n",
       "  <th>Prob(Omnibus):</th>  <td> 0.000</td>  <th>  Jarque-Bera (JB):  </th> <td>5708.152</td>\n",
       "</tr>\n",
       "<tr>\n",
       "  <th>Skew:</th>           <td>-1.281</td>  <th>  Prob(JB):          </th> <td>    0.00</td>\n",
       "</tr>\n",
       "<tr>\n",
       "  <th>Kurtosis:</th>       <td> 6.187</td>  <th>  Cond. No.          </th> <td>7.01e+06</td>\n",
       "</tr>\n",
       "</table><br/><br/>Notes:<br/>[1] Standard Errors assume that the covariance matrix of the errors is correctly specified.<br/>[2] The condition number is large, 7.01e+06. This might indicate that there are<br/>strong multicollinearity or other numerical problems."
      ],
      "text/plain": [
       "<class 'statsmodels.iolib.summary.Summary'>\n",
       "\"\"\"\n",
       "                            OLS Regression Results                            \n",
       "==============================================================================\n",
       "Dep. Variable:                    usr   R-squared:                       0.634\n",
       "Model:                            OLS   Adj. R-squared:                  0.634\n",
       "Method:                 Least Squares   F-statistic:                     945.3\n",
       "Date:                Thu, 01 Dec 2022   Prob (F-statistic):               0.00\n",
       "Time:                        00:47:35   Log-Likelihood:                -31362.\n",
       "No. Observations:                8192   AIC:                         6.276e+04\n",
       "Df Residuals:                    8176   BIC:                         6.287e+04\n",
       "Df Model:                          15                                         \n",
       "Covariance Type:            nonrobust                                         \n",
       "========================================================================================\n",
       "                           coef    std err          t      P>|t|      [0.025      0.975]\n",
       "----------------------------------------------------------------------------------------\n",
       "Intercept               44.2090      0.605     73.067      0.000      43.023      45.395\n",
       "lread                   -0.0205      0.003     -7.350      0.000      -0.026      -0.015\n",
       "lwrite                   0.0109      0.005      2.214      0.027       0.001       0.020\n",
       "scall                    0.0013      0.000     11.398      0.000       0.001       0.001\n",
       "swrite                  -0.0033      0.001     -3.109      0.002      -0.005      -0.001\n",
       "exec                    -0.1862      0.032     -5.734      0.000      -0.250      -0.123\n",
       "rchar                 -3.47e-06   6.55e-07     -5.296      0.000   -4.75e-06   -2.19e-06\n",
       "wchar                -1.103e-05   1.09e-06    -10.084      0.000   -1.32e-05   -8.88e-06\n",
       "pgout                   -0.1388      0.029     -4.755      0.000      -0.196      -0.082\n",
       "pgscan                  -0.0025      0.002     -1.092      0.275      -0.007       0.002\n",
       "atch                    -0.0163      0.022     -0.732      0.464      -0.060       0.027\n",
       "pgin                     0.0266      0.011      2.439      0.015       0.005       0.048\n",
       "pflt                    -0.0404      0.002    -24.541      0.000      -0.044      -0.037\n",
       "freemem                 -0.0017   6.41e-05    -25.837      0.000      -0.002      -0.002\n",
       "freeswap              3.251e-05   3.72e-07     87.368      0.000    3.18e-05    3.32e-05\n",
       "runqsz_Not_CPU_Bound     7.9460      0.260     30.595      0.000       7.437       8.455\n",
       "==============================================================================\n",
       "Omnibus:                     2002.518   Durbin-Watson:                   2.025\n",
       "Prob(Omnibus):                  0.000   Jarque-Bera (JB):             5708.152\n",
       "Skew:                          -1.281   Prob(JB):                         0.00\n",
       "Kurtosis:                       6.187   Cond. No.                     7.01e+06\n",
       "==============================================================================\n",
       "\n",
       "Notes:\n",
       "[1] Standard Errors assume that the covariance matrix of the errors is correctly specified.\n",
       "[2] The condition number is large, 7.01e+06. This might indicate that there are\n",
       "strong multicollinearity or other numerical problems.\n",
       "\"\"\""
      ]
     },
     "execution_count": 50,
     "metadata": {},
     "output_type": "execute_result"
    }
   ],
   "source": [
    "model_MLR_7.summary()"
   ]
  },
  {
   "cell_type": "code",
   "execution_count": 51,
   "id": "0bee9140",
   "metadata": {
    "scrolled": true
   },
   "outputs": [
    {
     "name": "stdout",
     "output_type": "stream",
     "text": [
      "For the seventh MLR model: \n",
      "\n",
      "Rsquared 0.6342749803148436\n",
      "Adjusted Rsquared 0.6336040073090612\n"
     ]
    }
   ],
   "source": [
    "print('For the seventh MLR model:','\\n')\n",
    "\n",
    "print('Rsquared',model_MLR_7.rsquared)\n",
    "print('Adjusted Rsquared',model_MLR_7.rsquared_adj)"
   ]
  },
  {
   "cell_type": "code",
   "execution_count": 52,
   "id": "4a57b45a",
   "metadata": {},
   "outputs": [
    {
     "name": "stdout",
     "output_type": "stream",
     "text": [
      "lread  VIF =  1.47\n",
      "lwrite  VIF =  1.42\n",
      "scall  VIF =  2.18\n",
      "swrite  VIF =  1.97\n",
      "exec  VIF =  1.89\n",
      "rchar  VIF =  1.61\n",
      "wchar  VIF =  1.56\n",
      "pgout  VIF =  1.58\n",
      "pgscan  VIF =  1.71\n",
      "atch  VIF =  1.07\n",
      "pgin  VIF =  1.51\n",
      "pflt  VIF =  2.34\n",
      "freemem  VIF =  1.67\n",
      "freeswap  VIF =  1.63\n",
      "runqsz_Not_CPU_Bound  VIF =  1.11\n"
     ]
    }
   ],
   "source": [
    "vif_cal(input_data=df1_dummy[['lread', 'lwrite', 'scall', 'swrite', 'exec', 'rchar',\n",
    "       'wchar', 'pgout', 'pgscan', 'atch', 'pgin',\n",
    "       'pflt', 'freemem', 'freeswap', 'runqsz_Not_CPU_Bound']])"
   ]
  },
  {
   "cell_type": "markdown",
   "id": "e34e5034",
   "metadata": {},
   "source": [
    "for geting acurate models atch  VIF =  1.07 has to be eliminated"
   ]
  },
  {
   "cell_type": "markdown",
   "id": "f22f122d",
   "metadata": {},
   "source": [
    "# Model without the 'atch' variable"
   ]
  },
  {
   "cell_type": "code",
   "execution_count": 53,
   "id": "96a4f6c7",
   "metadata": {},
   "outputs": [],
   "source": [
    "formula_MLR_8 = 'usr~lread+lwrite+scall+swrite+exec+rchar+wchar+pgout+pgscan+pgin+pflt+freemem+freeswap+runqsz_Not_CPU_Bound'"
   ]
  },
  {
   "cell_type": "code",
   "execution_count": 54,
   "id": "229dc26e",
   "metadata": {},
   "outputs": [
    {
     "data": {
      "text/html": [
       "<table class=\"simpletable\">\n",
       "<caption>OLS Regression Results</caption>\n",
       "<tr>\n",
       "  <th>Dep. Variable:</th>           <td>usr</td>       <th>  R-squared:         </th> <td>   0.634</td> \n",
       "</tr>\n",
       "<tr>\n",
       "  <th>Model:</th>                   <td>OLS</td>       <th>  Adj. R-squared:    </th> <td>   0.634</td> \n",
       "</tr>\n",
       "<tr>\n",
       "  <th>Method:</th>             <td>Least Squares</td>  <th>  F-statistic:       </th> <td>   1013.</td> \n",
       "</tr>\n",
       "<tr>\n",
       "  <th>Date:</th>             <td>Thu, 01 Dec 2022</td> <th>  Prob (F-statistic):</th>  <td>  0.00</td>  \n",
       "</tr>\n",
       "<tr>\n",
       "  <th>Time:</th>                 <td>00:47:41</td>     <th>  Log-Likelihood:    </th> <td> -31362.</td> \n",
       "</tr>\n",
       "<tr>\n",
       "  <th>No. Observations:</th>      <td>  8192</td>      <th>  AIC:               </th> <td>6.275e+04</td>\n",
       "</tr>\n",
       "<tr>\n",
       "  <th>Df Residuals:</th>          <td>  8177</td>      <th>  BIC:               </th> <td>6.286e+04</td>\n",
       "</tr>\n",
       "<tr>\n",
       "  <th>Df Model:</th>              <td>    14</td>      <th>                     </th>     <td> </td>    \n",
       "</tr>\n",
       "<tr>\n",
       "  <th>Covariance Type:</th>      <td>nonrobust</td>    <th>                     </th>     <td> </td>    \n",
       "</tr>\n",
       "</table>\n",
       "<table class=\"simpletable\">\n",
       "<tr>\n",
       "            <td></td>              <th>coef</th>     <th>std err</th>      <th>t</th>      <th>P>|t|</th>  <th>[0.025</th>    <th>0.975]</th>  \n",
       "</tr>\n",
       "<tr>\n",
       "  <th>Intercept</th>            <td>   44.1841</td> <td>    0.604</td> <td>   73.144</td> <td> 0.000</td> <td>   43.000</td> <td>   45.368</td>\n",
       "</tr>\n",
       "<tr>\n",
       "  <th>lread</th>                <td>   -0.0205</td> <td>    0.003</td> <td>   -7.349</td> <td> 0.000</td> <td>   -0.026</td> <td>   -0.015</td>\n",
       "</tr>\n",
       "<tr>\n",
       "  <th>lwrite</th>               <td>    0.0109</td> <td>    0.005</td> <td>    2.215</td> <td> 0.027</td> <td>    0.001</td> <td>    0.020</td>\n",
       "</tr>\n",
       "<tr>\n",
       "  <th>scall</th>                <td>    0.0013</td> <td>    0.000</td> <td>   11.401</td> <td> 0.000</td> <td>    0.001</td> <td>    0.001</td>\n",
       "</tr>\n",
       "<tr>\n",
       "  <th>swrite</th>               <td>   -0.0033</td> <td>    0.001</td> <td>   -3.088</td> <td> 0.002</td> <td>   -0.005</td> <td>   -0.001</td>\n",
       "</tr>\n",
       "<tr>\n",
       "  <th>exec</th>                 <td>   -0.1869</td> <td>    0.032</td> <td>   -5.756</td> <td> 0.000</td> <td>   -0.251</td> <td>   -0.123</td>\n",
       "</tr>\n",
       "<tr>\n",
       "  <th>rchar</th>                <td> -3.51e-06</td> <td> 6.53e-07</td> <td>   -5.375</td> <td> 0.000</td> <td>-4.79e-06</td> <td>-2.23e-06</td>\n",
       "</tr>\n",
       "<tr>\n",
       "  <th>wchar</th>                <td>-1.111e-05</td> <td> 1.09e-06</td> <td>  -10.204</td> <td> 0.000</td> <td>-1.32e-05</td> <td>-8.97e-06</td>\n",
       "</tr>\n",
       "<tr>\n",
       "  <th>pgout</th>                <td>   -0.1413</td> <td>    0.029</td> <td>   -4.877</td> <td> 0.000</td> <td>   -0.198</td> <td>   -0.085</td>\n",
       "</tr>\n",
       "<tr>\n",
       "  <th>pgscan</th>               <td>   -0.0024</td> <td>    0.002</td> <td>   -1.050</td> <td> 0.294</td> <td>   -0.007</td> <td>    0.002</td>\n",
       "</tr>\n",
       "<tr>\n",
       "  <th>pgin</th>                 <td>    0.0267</td> <td>    0.011</td> <td>    2.457</td> <td> 0.014</td> <td>    0.005</td> <td>    0.048</td>\n",
       "</tr>\n",
       "<tr>\n",
       "  <th>pflt</th>                 <td>   -0.0404</td> <td>    0.002</td> <td>  -24.538</td> <td> 0.000</td> <td>   -0.044</td> <td>   -0.037</td>\n",
       "</tr>\n",
       "<tr>\n",
       "  <th>freemem</th>              <td>   -0.0017</td> <td> 6.41e-05</td> <td>  -25.835</td> <td> 0.000</td> <td>   -0.002</td> <td>   -0.002</td>\n",
       "</tr>\n",
       "<tr>\n",
       "  <th>freeswap</th>             <td> 3.253e-05</td> <td> 3.72e-07</td> <td>   87.520</td> <td> 0.000</td> <td> 3.18e-05</td> <td> 3.33e-05</td>\n",
       "</tr>\n",
       "<tr>\n",
       "  <th>runqsz_Not_CPU_Bound</th> <td>    7.9491</td> <td>    0.260</td> <td>   30.612</td> <td> 0.000</td> <td>    7.440</td> <td>    8.458</td>\n",
       "</tr>\n",
       "</table>\n",
       "<table class=\"simpletable\">\n",
       "<tr>\n",
       "  <th>Omnibus:</th>       <td>2003.374</td> <th>  Durbin-Watson:     </th> <td>   2.025</td>\n",
       "</tr>\n",
       "<tr>\n",
       "  <th>Prob(Omnibus):</th>  <td> 0.000</td>  <th>  Jarque-Bera (JB):  </th> <td>5705.889</td>\n",
       "</tr>\n",
       "<tr>\n",
       "  <th>Skew:</th>           <td>-1.282</td>  <th>  Prob(JB):          </th> <td>    0.00</td>\n",
       "</tr>\n",
       "<tr>\n",
       "  <th>Kurtosis:</th>       <td> 6.185</td>  <th>  Cond. No.          </th> <td>7.00e+06</td>\n",
       "</tr>\n",
       "</table><br/><br/>Notes:<br/>[1] Standard Errors assume that the covariance matrix of the errors is correctly specified.<br/>[2] The condition number is large,  7e+06. This might indicate that there are<br/>strong multicollinearity or other numerical problems."
      ],
      "text/plain": [
       "<class 'statsmodels.iolib.summary.Summary'>\n",
       "\"\"\"\n",
       "                            OLS Regression Results                            \n",
       "==============================================================================\n",
       "Dep. Variable:                    usr   R-squared:                       0.634\n",
       "Model:                            OLS   Adj. R-squared:                  0.634\n",
       "Method:                 Least Squares   F-statistic:                     1013.\n",
       "Date:                Thu, 01 Dec 2022   Prob (F-statistic):               0.00\n",
       "Time:                        00:47:41   Log-Likelihood:                -31362.\n",
       "No. Observations:                8192   AIC:                         6.275e+04\n",
       "Df Residuals:                    8177   BIC:                         6.286e+04\n",
       "Df Model:                          14                                         \n",
       "Covariance Type:            nonrobust                                         \n",
       "========================================================================================\n",
       "                           coef    std err          t      P>|t|      [0.025      0.975]\n",
       "----------------------------------------------------------------------------------------\n",
       "Intercept               44.1841      0.604     73.144      0.000      43.000      45.368\n",
       "lread                   -0.0205      0.003     -7.349      0.000      -0.026      -0.015\n",
       "lwrite                   0.0109      0.005      2.215      0.027       0.001       0.020\n",
       "scall                    0.0013      0.000     11.401      0.000       0.001       0.001\n",
       "swrite                  -0.0033      0.001     -3.088      0.002      -0.005      -0.001\n",
       "exec                    -0.1869      0.032     -5.756      0.000      -0.251      -0.123\n",
       "rchar                 -3.51e-06   6.53e-07     -5.375      0.000   -4.79e-06   -2.23e-06\n",
       "wchar                -1.111e-05   1.09e-06    -10.204      0.000   -1.32e-05   -8.97e-06\n",
       "pgout                   -0.1413      0.029     -4.877      0.000      -0.198      -0.085\n",
       "pgscan                  -0.0024      0.002     -1.050      0.294      -0.007       0.002\n",
       "pgin                     0.0267      0.011      2.457      0.014       0.005       0.048\n",
       "pflt                    -0.0404      0.002    -24.538      0.000      -0.044      -0.037\n",
       "freemem                 -0.0017   6.41e-05    -25.835      0.000      -0.002      -0.002\n",
       "freeswap              3.253e-05   3.72e-07     87.520      0.000    3.18e-05    3.33e-05\n",
       "runqsz_Not_CPU_Bound     7.9491      0.260     30.612      0.000       7.440       8.458\n",
       "==============================================================================\n",
       "Omnibus:                     2003.374   Durbin-Watson:                   2.025\n",
       "Prob(Omnibus):                  0.000   Jarque-Bera (JB):             5705.889\n",
       "Skew:                          -1.282   Prob(JB):                         0.00\n",
       "Kurtosis:                       6.185   Cond. No.                     7.00e+06\n",
       "==============================================================================\n",
       "\n",
       "Notes:\n",
       "[1] Standard Errors assume that the covariance matrix of the errors is correctly specified.\n",
       "[2] The condition number is large,  7e+06. This might indicate that there are\n",
       "strong multicollinearity or other numerical problems.\n",
       "\"\"\""
      ]
     },
     "execution_count": 54,
     "metadata": {},
     "output_type": "execute_result"
    }
   ],
   "source": [
    "model_MLR_8 = SM.ols(formula=formula_MLR_8,data=df1_dummy).fit()\n",
    "model_MLR_8.summary()"
   ]
  },
  {
   "cell_type": "markdown",
   "id": "8221f6dd",
   "metadata": {},
   "source": [
    "# Model without the 'pgscan' variable"
   ]
  },
  {
   "cell_type": "code",
   "execution_count": 55,
   "id": "3ff1fe0f",
   "metadata": {},
   "outputs": [],
   "source": [
    "formula_MLR_9 = 'usr~lread+lwrite+scall+swrite+exec+rchar+wchar+pgout+pgin+pflt+freemem+freeswap+runqsz_Not_CPU_Bound'"
   ]
  },
  {
   "cell_type": "code",
   "execution_count": 56,
   "id": "4255faed",
   "metadata": {},
   "outputs": [
    {
     "data": {
      "text/html": [
       "<table class=\"simpletable\">\n",
       "<caption>OLS Regression Results</caption>\n",
       "<tr>\n",
       "  <th>Dep. Variable:</th>           <td>usr</td>       <th>  R-squared:         </th> <td>   0.634</td> \n",
       "</tr>\n",
       "<tr>\n",
       "  <th>Model:</th>                   <td>OLS</td>       <th>  Adj. R-squared:    </th> <td>   0.634</td> \n",
       "</tr>\n",
       "<tr>\n",
       "  <th>Method:</th>             <td>Least Squares</td>  <th>  F-statistic:       </th> <td>   1091.</td> \n",
       "</tr>\n",
       "<tr>\n",
       "  <th>Date:</th>             <td>Thu, 01 Dec 2022</td> <th>  Prob (F-statistic):</th>  <td>  0.00</td>  \n",
       "</tr>\n",
       "<tr>\n",
       "  <th>Time:</th>                 <td>00:47:43</td>     <th>  Log-Likelihood:    </th> <td> -31363.</td> \n",
       "</tr>\n",
       "<tr>\n",
       "  <th>No. Observations:</th>      <td>  8192</td>      <th>  AIC:               </th> <td>6.275e+04</td>\n",
       "</tr>\n",
       "<tr>\n",
       "  <th>Df Residuals:</th>          <td>  8178</td>      <th>  BIC:               </th> <td>6.285e+04</td>\n",
       "</tr>\n",
       "<tr>\n",
       "  <th>Df Model:</th>              <td>    13</td>      <th>                     </th>     <td> </td>    \n",
       "</tr>\n",
       "<tr>\n",
       "  <th>Covariance Type:</th>      <td>nonrobust</td>    <th>                     </th>     <td> </td>    \n",
       "</tr>\n",
       "</table>\n",
       "<table class=\"simpletable\">\n",
       "<tr>\n",
       "            <td></td>              <th>coef</th>     <th>std err</th>      <th>t</th>      <th>P>|t|</th>  <th>[0.025</th>    <th>0.975]</th>  \n",
       "</tr>\n",
       "<tr>\n",
       "  <th>Intercept</th>            <td>   44.2213</td> <td>    0.603</td> <td>   73.331</td> <td> 0.000</td> <td>   43.039</td> <td>   45.403</td>\n",
       "</tr>\n",
       "<tr>\n",
       "  <th>lread</th>                <td>   -0.0205</td> <td>    0.003</td> <td>   -7.341</td> <td> 0.000</td> <td>   -0.026</td> <td>   -0.015</td>\n",
       "</tr>\n",
       "<tr>\n",
       "  <th>lwrite</th>               <td>    0.0110</td> <td>    0.005</td> <td>    2.233</td> <td> 0.026</td> <td>    0.001</td> <td>    0.021</td>\n",
       "</tr>\n",
       "<tr>\n",
       "  <th>scall</th>                <td>    0.0013</td> <td>    0.000</td> <td>   11.410</td> <td> 0.000</td> <td>    0.001</td> <td>    0.001</td>\n",
       "</tr>\n",
       "<tr>\n",
       "  <th>swrite</th>               <td>   -0.0033</td> <td>    0.001</td> <td>   -3.084</td> <td> 0.002</td> <td>   -0.005</td> <td>   -0.001</td>\n",
       "</tr>\n",
       "<tr>\n",
       "  <th>exec</th>                 <td>   -0.1869</td> <td>    0.032</td> <td>   -5.755</td> <td> 0.000</td> <td>   -0.251</td> <td>   -0.123</td>\n",
       "</tr>\n",
       "<tr>\n",
       "  <th>rchar</th>                <td>-3.588e-06</td> <td> 6.49e-07</td> <td>   -5.530</td> <td> 0.000</td> <td>-4.86e-06</td> <td>-2.32e-06</td>\n",
       "</tr>\n",
       "<tr>\n",
       "  <th>wchar</th>                <td>-1.102e-05</td> <td> 1.09e-06</td> <td>  -10.154</td> <td> 0.000</td> <td>-1.31e-05</td> <td>-8.89e-06</td>\n",
       "</tr>\n",
       "<tr>\n",
       "  <th>pgout</th>                <td>   -0.1547</td> <td>    0.026</td> <td>   -5.951</td> <td> 0.000</td> <td>   -0.206</td> <td>   -0.104</td>\n",
       "</tr>\n",
       "<tr>\n",
       "  <th>pgin</th>                 <td>    0.0229</td> <td>    0.010</td> <td>    2.234</td> <td> 0.026</td> <td>    0.003</td> <td>    0.043</td>\n",
       "</tr>\n",
       "<tr>\n",
       "  <th>pflt</th>                 <td>   -0.0405</td> <td>    0.002</td> <td>  -24.593</td> <td> 0.000</td> <td>   -0.044</td> <td>   -0.037</td>\n",
       "</tr>\n",
       "<tr>\n",
       "  <th>freemem</th>              <td>   -0.0017</td> <td> 6.41e-05</td> <td>  -25.818</td> <td> 0.000</td> <td>   -0.002</td> <td>   -0.002</td>\n",
       "</tr>\n",
       "<tr>\n",
       "  <th>freeswap</th>             <td> 3.251e-05</td> <td> 3.71e-07</td> <td>   87.535</td> <td> 0.000</td> <td> 3.18e-05</td> <td> 3.32e-05</td>\n",
       "</tr>\n",
       "<tr>\n",
       "  <th>runqsz_Not_CPU_Bound</th> <td>    7.9468</td> <td>    0.260</td> <td>   30.604</td> <td> 0.000</td> <td>    7.438</td> <td>    8.456</td>\n",
       "</tr>\n",
       "</table>\n",
       "<table class=\"simpletable\">\n",
       "<tr>\n",
       "  <th>Omnibus:</th>       <td>2001.691</td> <th>  Durbin-Watson:     </th> <td>   2.025</td>\n",
       "</tr>\n",
       "<tr>\n",
       "  <th>Prob(Omnibus):</th>  <td> 0.000</td>  <th>  Jarque-Bera (JB):  </th> <td>5698.640</td>\n",
       "</tr>\n",
       "<tr>\n",
       "  <th>Skew:</th>           <td>-1.281</td>  <th>  Prob(JB):          </th> <td>    0.00</td>\n",
       "</tr>\n",
       "<tr>\n",
       "  <th>Kurtosis:</th>       <td> 6.183</td>  <th>  Cond. No.          </th> <td>6.99e+06</td>\n",
       "</tr>\n",
       "</table><br/><br/>Notes:<br/>[1] Standard Errors assume that the covariance matrix of the errors is correctly specified.<br/>[2] The condition number is large, 6.99e+06. This might indicate that there are<br/>strong multicollinearity or other numerical problems."
      ],
      "text/plain": [
       "<class 'statsmodels.iolib.summary.Summary'>\n",
       "\"\"\"\n",
       "                            OLS Regression Results                            \n",
       "==============================================================================\n",
       "Dep. Variable:                    usr   R-squared:                       0.634\n",
       "Model:                            OLS   Adj. R-squared:                  0.634\n",
       "Method:                 Least Squares   F-statistic:                     1091.\n",
       "Date:                Thu, 01 Dec 2022   Prob (F-statistic):               0.00\n",
       "Time:                        00:47:43   Log-Likelihood:                -31363.\n",
       "No. Observations:                8192   AIC:                         6.275e+04\n",
       "Df Residuals:                    8178   BIC:                         6.285e+04\n",
       "Df Model:                          13                                         \n",
       "Covariance Type:            nonrobust                                         \n",
       "========================================================================================\n",
       "                           coef    std err          t      P>|t|      [0.025      0.975]\n",
       "----------------------------------------------------------------------------------------\n",
       "Intercept               44.2213      0.603     73.331      0.000      43.039      45.403\n",
       "lread                   -0.0205      0.003     -7.341      0.000      -0.026      -0.015\n",
       "lwrite                   0.0110      0.005      2.233      0.026       0.001       0.021\n",
       "scall                    0.0013      0.000     11.410      0.000       0.001       0.001\n",
       "swrite                  -0.0033      0.001     -3.084      0.002      -0.005      -0.001\n",
       "exec                    -0.1869      0.032     -5.755      0.000      -0.251      -0.123\n",
       "rchar                -3.588e-06   6.49e-07     -5.530      0.000   -4.86e-06   -2.32e-06\n",
       "wchar                -1.102e-05   1.09e-06    -10.154      0.000   -1.31e-05   -8.89e-06\n",
       "pgout                   -0.1547      0.026     -5.951      0.000      -0.206      -0.104\n",
       "pgin                     0.0229      0.010      2.234      0.026       0.003       0.043\n",
       "pflt                    -0.0405      0.002    -24.593      0.000      -0.044      -0.037\n",
       "freemem                 -0.0017   6.41e-05    -25.818      0.000      -0.002      -0.002\n",
       "freeswap              3.251e-05   3.71e-07     87.535      0.000    3.18e-05    3.32e-05\n",
       "runqsz_Not_CPU_Bound     7.9468      0.260     30.604      0.000       7.438       8.456\n",
       "==============================================================================\n",
       "Omnibus:                     2001.691   Durbin-Watson:                   2.025\n",
       "Prob(Omnibus):                  0.000   Jarque-Bera (JB):             5698.640\n",
       "Skew:                          -1.281   Prob(JB):                         0.00\n",
       "Kurtosis:                       6.183   Cond. No.                     6.99e+06\n",
       "==============================================================================\n",
       "\n",
       "Notes:\n",
       "[1] Standard Errors assume that the covariance matrix of the errors is correctly specified.\n",
       "[2] The condition number is large, 6.99e+06. This might indicate that there are\n",
       "strong multicollinearity or other numerical problems.\n",
       "\"\"\""
      ]
     },
     "execution_count": 56,
     "metadata": {},
     "output_type": "execute_result"
    }
   ],
   "source": [
    "model_MLR_9 = SM.ols(formula=formula_MLR_9,data=df1_dummy).fit()\n",
    "model_MLR_9.summary()"
   ]
  },
  {
   "cell_type": "markdown",
   "id": "55f77394",
   "metadata": {},
   "source": [
    "# Predict using model 9"
   ]
  },
  {
   "cell_type": "code",
   "execution_count": 57,
   "id": "554d3371",
   "metadata": {},
   "outputs": [
    {
     "data": {
      "text/plain": [
       "0        93.860133\n",
       "1       100.271572\n",
       "2        79.094155\n",
       "3        99.706985\n",
       "4       106.388688\n",
       "           ...    \n",
       "8187     68.938536\n",
       "8188     80.947225\n",
       "8189     82.356869\n",
       "8190     78.814911\n",
       "8191     96.120962\n",
       "Length: 8192, dtype: float64"
      ]
     },
     "execution_count": 57,
     "metadata": {},
     "output_type": "execute_result"
    }
   ],
   "source": [
    "model_MLR_9_pred = model_MLR_9.fittedvalues\n",
    "model_MLR_9_pred"
   ]
  },
  {
   "cell_type": "markdown",
   "id": "dab5fde6",
   "metadata": {},
   "source": [
    "# Target variable-predicted value plot"
   ]
  },
  {
   "cell_type": "markdown",
   "id": "c7d4bd2f",
   "metadata": {},
   "source": [
    "The target variable of a dataset is the feature of a dataset about which you want to gain a deeper understanding. A Linear regression algoritham uses historical data to learn patterns and uncover relationships between other features of your dataset and the target."
   ]
  },
  {
   "cell_type": "markdown",
   "id": "b663fbd7",
   "metadata": {},
   "source": [
    "predictor plot is used to determine whether or not another predictor should be added to the model."
   ]
  },
  {
   "cell_type": "code",
   "execution_count": 58,
   "id": "7febf1b0",
   "metadata": {},
   "outputs": [
    {
     "data": {
      "image/png": "[encoded data removed]",
      "text/plain": [
       "<Figure size 720x360 with 1 Axes>"
      ]
     },
     "metadata": {
      "needs_background": "light"
     },
     "output_type": "display_data"
    }
   ],
   "source": [
    "plt.scatter(df1_dummy['usr'],model_MLR_9_pred)\n",
    "plt.grid();"
   ]
  },
  {
   "cell_type": "markdown",
   "id": "92229830",
   "metadata": {},
   "source": [
    "# Actual vs predicted(blue is predicted, ornage is actual)"
   ]
  },
  {
   "cell_type": "code",
   "execution_count": 59,
   "id": "6eecb861",
   "metadata": {},
   "outputs": [
    {
     "data": {
      "image/png": "[encoded data removed]",
      "text/plain": [
       "<Figure size 720x360 with 1 Axes>"
      ]
     },
     "metadata": {
      "needs_background": "light"
     },
     "output_type": "display_data"
    }
   ],
   "source": [
    "sns.distplot(model_MLR_9.fittedvalues)\n",
    "sns.distplot(df1_dummy['usr']);"
   ]
  },
  {
   "cell_type": "markdown",
   "id": "e6fb039b",
   "metadata": {},
   "source": [
    "From the above dist plot we can say that the the actual values are higher than the pridective model "
   ]
  },
  {
   "cell_type": "markdown",
   "id": "7a17684e",
   "metadata": {},
   "source": [
    "# Error plot"
   ]
  },
  {
   "cell_type": "code",
   "execution_count": 60,
   "id": "7f3bc900",
   "metadata": {},
   "outputs": [
    {
     "data": {
      "image/png": "[encoded data removed]",
      "text/plain": [
       "<Figure size 720x360 with 2 Axes>"
      ]
     },
     "metadata": {
      "needs_background": "light"
     },
     "output_type": "display_data"
    }
   ],
   "source": [
    "f,a =  plt.subplots(1,2,sharex=False,sharey=False,squeeze=False)\n",
    "\n",
    "\n",
    "plot_0 = sns.distplot(model_MLR_9.resid,ax=a[0][0])\n",
    "a[0][0].set_title('Distplot of the residuals')\n",
    "a[0][0].grid()\n",
    "\n",
    "plot_1 = sns.boxplot(model_MLR_9.resid,orient='v',ax=a[0][1])\n",
    "a[0][1].set_title('Boxplot of the residuals')\n",
    "a[0][1].grid()\n",
    "plot_1;"
   ]
  },
  {
   "cell_type": "markdown",
   "id": "c0cc559f",
   "metadata": {},
   "source": [
    "Error plots are used to visually indicate uncertainty in data points. This is done by specifying both a min and and max value for each data point."
   ]
  },
  {
   "cell_type": "markdown",
   "id": "da7a3fd7",
   "metadata": {},
   "source": [
    "# Prediction by using sklearn"
   ]
  },
  {
   "cell_type": "code",
   "execution_count": 61,
   "id": "01e6019f",
   "metadata": {},
   "outputs": [],
   "source": [
    "from sklearn.linear_model import LinearRegression"
   ]
  },
  {
   "cell_type": "code",
   "execution_count": 62,
   "id": "19307cd8",
   "metadata": {},
   "outputs": [],
   "source": [
    "lr = LinearRegression()"
   ]
  },
  {
   "cell_type": "code",
   "execution_count": 63,
   "id": "c83662e0",
   "metadata": {},
   "outputs": [],
   "source": [
    "X = df1_dummy[['lread', 'lwrite', 'scall', 'sread', 'swrite', 'fork', 'exec', 'rchar',\n",
    "       'wchar', 'pgout', 'ppgout', 'pgfree', 'pgscan', 'atch', 'pgin', 'ppgin',\n",
    "       'pflt', 'vflt', 'freemem', 'freeswap', 'runqsz_Not_CPU_Bound']].copy()\n",
    "Y = df1_dummy['usr']"
   ]
  },
  {
   "cell_type": "code",
   "execution_count": 64,
   "id": "00f4dd51",
   "metadata": {},
   "outputs": [],
   "source": [
    "from sklearn.model_selection import train_test_split"
   ]
  },
  {
   "cell_type": "code",
   "execution_count": 65,
   "id": "fb851d50",
   "metadata": {},
   "outputs": [],
   "source": [
    "X_train, X_test, Y_train, Y_test = train_test_split(X,Y,test_size=0.3,random_state=123)"
   ]
  },
  {
   "cell_type": "code",
   "execution_count": 66,
   "id": "c3ae51b7",
   "metadata": {},
   "outputs": [
    {
     "name": "stdout",
     "output_type": "stream",
     "text": [
      "(5734, 21)\n",
      "(2458, 21)\n",
      "(5734,)\n",
      "(2458,)\n"
     ]
    }
   ],
   "source": [
    "print(X_train.shape)\n",
    "print(X_test.shape)\n",
    "print(Y_train.shape)\n",
    "print(Y_test.shape)"
   ]
  },
  {
   "cell_type": "code",
   "execution_count": 67,
   "id": "820216f8",
   "metadata": {},
   "outputs": [],
   "source": [
    "model_9 = lr.fit(X_train[['lread', 'lwrite', 'scall', 'swrite', 'exec', 'rchar',\n",
    "       'wchar', 'pgout', 'pgin',\n",
    "       'pflt', 'freemem', 'freeswap', 'runqsz_Not_CPU_Bound']],Y_train)"
   ]
  },
  {
   "cell_type": "markdown",
   "id": "dd9f94c1",
   "metadata": {},
   "source": [
    "A training set is a portion of a data set used to fit (train) a model for prediction or classification of values that are known in the training set, but unknown in other (future) data. The training set is used in conjunction with validation and/or test sets that are used to evaluate different models."
   ]
  },
  {
   "cell_type": "markdown",
   "id": "30ee6f40",
   "metadata": {},
   "source": [
    "# Training Data Prediction"
   ]
  },
  {
   "cell_type": "code",
   "execution_count": 68,
   "id": "e178c03c",
   "metadata": {},
   "outputs": [
    {
     "name": "stdout",
     "output_type": "stream",
     "text": [
      "[100.74287235  51.29984145  88.74891913 ...  91.2389882   71.42815401\n",
      "  99.87793966]\n"
     ]
    }
   ],
   "source": [
    "\n",
    "\n",
    "model_9_pred_train = model_9.predict(X_train[['lread', 'lwrite', 'scall', 'swrite', 'exec', 'rchar',\n",
    "       'wchar', 'pgout', 'pgin',\n",
    "       'pflt', 'freemem', 'freeswap', 'runqsz_Not_CPU_Bound']])\n",
    "print(model_9_pred_train)"
   ]
  },
  {
   "cell_type": "markdown",
   "id": "4e9ebcb8",
   "metadata": {},
   "source": [
    "Predictive Test Selection is a new approach to Test Impact Analysis that uses machine learning to dynamically select which tests to run based on the characteristics of a code change. To achieve this, historic test results and information about the changes that were tested are used to train a machine learning model."
   ]
  },
  {
   "cell_type": "markdown",
   "id": "e68f0200",
   "metadata": {},
   "source": [
    "# Test Data Prediction"
   ]
  },
  {
   "cell_type": "code",
   "execution_count": 69,
   "id": "b0725e35",
   "metadata": {},
   "outputs": [
    {
     "name": "stdout",
     "output_type": "stream",
     "text": [
      "[82.6120278  81.44032741 96.94898961 ... 90.17362482 69.92562428\n",
      " 78.19120034]\n"
     ]
    }
   ],
   "source": [
    "model_9_pred_test = model_9.predict(X_test[['lread', 'lwrite', 'scall', 'swrite', 'exec', 'rchar',\n",
    "       'wchar', 'pgout', 'pgin',\n",
    "       'pflt', 'freemem', 'freeswap', 'runqsz_Not_CPU_Bound']])\n",
    "print(model_9_pred_test)"
   ]
  },
  {
   "cell_type": "markdown",
   "id": "c364b52a",
   "metadata": {},
   "source": [
    "# RMSE check for all the model built"
   ]
  },
  {
   "cell_type": "markdown",
   "id": "d53366c4",
   "metadata": {},
   "source": [
    "Root mean square error or root mean square deviation is one of the most commonly used measures for evaluating the quality of predictions. It shows how far predictions fall from measured true values using Euclidean distance."
   ]
  },
  {
   "cell_type": "code",
   "execution_count": 70,
   "id": "ae53bbe3",
   "metadata": {},
   "outputs": [],
   "source": [
    "from sklearn.metrics import mean_squared_error"
   ]
  },
  {
   "cell_type": "code",
   "execution_count": 71,
   "id": "f9c032c8",
   "metadata": {},
   "outputs": [
    {
     "name": "stdout",
     "output_type": "stream",
     "text": [
      "Training Data RMSE of model_9: 11.32873810061817\n",
      "Test Data RMSE of model_9: 10.691490868421171\n"
     ]
    }
   ],
   "source": [
    "print('Training Data RMSE of model_9:',mean_squared_error(Y_train,model_9_pred_train,squared=False))\n",
    "print('Test Data RMSE of model_9:',mean_squared_error(Y_test,model_9_pred_test,squared=False))"
   ]
  },
  {
   "cell_type": "markdown",
   "id": "a8ee69bc",
   "metadata": {},
   "source": [
    "# Scatteplot for the predictions"
   ]
  },
  {
   "cell_type": "markdown",
   "id": "eb685c46",
   "metadata": {},
   "source": [
    "# Training Data"
   ]
  },
  {
   "cell_type": "code",
   "execution_count": 72,
   "id": "7bb6fcd0",
   "metadata": {},
   "outputs": [
    {
     "data": {
      "image/png": "[encoded data removed]",
      "text/plain": [
       "<Figure size 720x360 with 1 Axes>"
      ]
     },
     "metadata": {
      "needs_background": "light"
     },
     "output_type": "display_data"
    }
   ],
   "source": [
    "sns.scatterplot(Y_train,model_9_pred_train);"
   ]
  },
  {
   "cell_type": "markdown",
   "id": "2580b9d0",
   "metadata": {},
   "source": [
    "# Test Data"
   ]
  },
  {
   "cell_type": "code",
   "execution_count": 73,
   "id": "8281cd46",
   "metadata": {},
   "outputs": [
    {
     "data": {
      "image/png": "[encoded data removed]",
      "text/plain": [
       "<Figure size 720x360 with 1 Axes>"
      ]
     },
     "metadata": {
      "needs_background": "light"
     },
     "output_type": "display_data"
    }
   ],
   "source": [
    "sns.scatterplot(Y_test,model_9_pred_test);"
   ]
  },
  {
   "cell_type": "markdown",
   "id": "ad0b6c4f",
   "metadata": {},
   "source": [
    "# 1.4 Inference: Basis on these predictions, what are the business insights and recommendations.\n",
    "# Please explain and summarise the various steps performed in this project. There should be proper business interpretation and actionable insights present."
   ]
  },
  {
   "cell_type": "markdown",
   "id": "462b786d",
   "metadata": {},
   "source": [
    "The target variable 'usr' is depend upon the variables used in model 9 i.e.\n",
    "formula_MLR_9 = 'usr~lread+lwrite+scall+swrite+exec+rchar+wchar+pgout+pgin+pflt+freemem+freeswap+runqsz_Not_CPU_Bound'\n",
    "\n",
    "usr = (44.22) - (lread x 0.0205) + (lwrite x 0.011) + (scall x 0.0013) - (swrite x 0.0033) - (exec x 0.1869) - (rchar x 3.588e-06) - (wchar x 1.102e-05) - (pgout x 0.1547) + (pgin x 0.0229) - (pflt x 0.0405) - (freemem x 0.0017) + (freeswap x 3.251e-05) + (runqsz_Not_CPU_Bound x 7.9468)\n"
   ]
  },
  {
   "cell_type": "markdown",
   "id": "ae3a96a7",
   "metadata": {},
   "source": [
    "\n",
    "This means:\n",
    "\n",
    "•\tAddition of lread increases usr decreases by 0.0205 units.\n",
    "\n",
    "•\tAddition of lwrite increases usr increases by 0.011 units.\n",
    "\n",
    "•\t Addition of scall increases usr increases by 0.0013 units.\n",
    "\n",
    "•\tAddition of swrite increases usr decreases by 0.0033 units.\n",
    "\n",
    "•\tAddition of exec increases usr decreases by 0.1869 units.\n",
    "\n",
    "•\tAddition of rchar increases usr decreases by 3.588e-06 units.\n",
    "\n",
    "•\tAddition of wchar increases usr decreases by 1.102e-05 units.\n",
    "\n",
    "•\tAddition of pgout increases usr decreases by 0.1547 units\n",
    "\n",
    "•\tAddition of pgin increases usr increases by 0.0229 units.\n",
    "\n",
    "•\tAddition of pflt increases usr decreases by 0.0405 units.\n",
    "\n",
    "•\tAddition of freemem increases usr decreases by 0.0017 units.\n",
    "\n",
    "•\tAddition of freeswap increases usr increases by 3.251e-05 units.\n",
    "\n",
    "Addition of runqsz_Not_CPU_Bound increases usr increases by 7.9468 units."
   ]
  }
 ],
 "metadata": {
  "kernelspec": {
   "display_name": "Python 3",
   "language": "python",
   "name": "python3"
  },
  "language_info": {
   "codemirror_mode": {
    "name": "ipython",
    "version": 3
   },
   "file_extension": ".py",
   "mimetype": "text/x-python",
   "name": "python",
   "nbconvert_exporter": "python",
   "pygments_lexer": "ipython3",
   "version": "3.8.8"
  }
 },
 "nbformat": 4,
 "nbformat_minor": 5
}
